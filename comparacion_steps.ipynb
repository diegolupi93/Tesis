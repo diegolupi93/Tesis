{
 "cells": [
  {
   "cell_type": "code",
   "execution_count": null,
   "metadata": {},
   "outputs": [],
   "source": [
    "#coding=utf-8\n",
    "from keras.models import load_model\n",
    "from utils.sample import Sample\n",
    "from utils.black_scholes import raiz_ratio, d1_ratio, call_price_ratio\n",
    "from utils.biseccion import bisec\n",
    "import time\n",
    "import pickle\n",
    "import math\n",
    "import numpy as np\n",
    "\n",
    "from scipy.optimize import brentq\n",
    "from sklearn.metrics import r2_score\n",
    "import tensorflow as tf\n",
    "import matplotlib.pyplot as plt\n",
    "import scipy.stats as st\n",
    "import pandas as pd\n",
    "\n",
    "GPUs = len(tf.config.experimental.list_physical_devices('GPU'))\n",
    "CPUs = len(tf.config.experimental.list_physical_devices('CPU'))\n",
    "\n",
    "if GPUs > 0:\n",
    "    \n",
    "    print(\"Num GPUs Available: \", GPUs)\n",
    "    print(\"Num CPUs Available: \", CPUs)\n",
    "    config = tf.compat.v1.ConfigProto( device_count = \\\n",
    "                                      {'GPU': GPUs , 'CPU': CPUs}) \n",
    "    sess = tf.compat.v1.Session(config=config) \n",
    "    tf.compat.v1.keras.backend.set_session(sess)"
   ]
  },
  {
   "cell_type": "code",
   "execution_count": null,
   "metadata": {},
   "outputs": [],
   "source": [
    "with open('history_stepy.pickle', 'rb') as handle:\n",
    "    his_my_stepy = pickle.load(handle)\n",
    "    \n",
    "with open('history_step.pickle', 'rb') as handle:\n",
    "    his_step = pickle.load(handle)"
   ]
  },
  {
   "cell_type": "code",
   "execution_count": null,
   "metadata": {},
   "outputs": [],
   "source": [
    "def step_decay(epoch):\n",
    "    lrate = 0.0005 * math.pow(0.9,  \n",
    "           math.floor((1+epoch)/10))\n",
    "    return lrate\n",
    "\n",
    "def my_stepy_2(epoch):\n",
    "    i = 0\n",
    "\n",
    "    lrate = 0.0005 * math.pow(0.9,  \n",
    "           math.floor((1+epoch)/10))\n",
    "    while lrate < 10**-(6+i):\n",
    "        lrate *= 100\n",
    "        i  += 0.5\n",
    "    return lrate"
   ]
  },
  {
   "cell_type": "code",
   "execution_count": null,
   "metadata": {},
   "outputs": [],
   "source": [
    "sdv = np.vectorize(step_decay)\n",
    "sdv(range(10))\n"
   ]
  },
  {
   "cell_type": "code",
   "execution_count": null,
   "metadata": {},
   "outputs": [],
   "source": [
    "sdv = np.vectorize(step_decay)\n",
    "msv = np.vectorize(my_stepy_2)\n",
    "\n",
    "fig, ax, = plt.subplots(figsize=(15,10))\n",
    "\n",
    "#ax.plot(history_clr.history['loss'], 'b', label = 'implied volatility')\n",
    "ax.plot(range(1000), sdv(range(1000)),'m',label='Step Decay')\n",
    "######################################################\n",
    "ax.plot(range(1000), msv(range(1000)), 'r', label = 'My Step Decay')\n",
    "#########################################################\n",
    "#ax.plot(history_stepd.history['loss'], 'c', label = 'step decay')\n",
    "ax.legend()\n",
    "plt.legend(fontsize=14)\n",
    "plt.title('Comparacion de Learning Rates')\n",
    "plt.xticks(fontsize=14)\n",
    "plt.yticks(fontsize=14)\n",
    "plt.xlabel(\"epochs\", fontsize=18)\n",
    "plt.ylabel(\"Learning Rate\", fontsize=18)\n",
    "plt.grid()\n",
    "ax.set_yscale('log')"
   ]
  },
  {
   "cell_type": "code",
   "execution_count": null,
   "metadata": {},
   "outputs": [],
   "source": [
    "fig, ax, = plt.subplots(figsize=(15,10))\n",
    "\n",
    "#ax.plot(history_clr.history['loss'], 'b', label = 'implied volatility')\n",
    "ax.plot(range(3000), sdv(range(3000)),'m',label='Step Decay')\n",
    "######################################################\n",
    "ax.plot(range(3000), msv(range(3000)), 'r', label = 'My Step Decay')\n",
    "#########################################################\n",
    "#ax.plot(history_stepd.history['loss'], 'c', label = 'step decay')\n",
    "ax.legend()\n",
    "plt.legend(fontsize=14)\n",
    "plt.title('Comparacion de Learning Rates')\n",
    "plt.xticks(fontsize=14)\n",
    "plt.yticks(fontsize=14)\n",
    "plt.xlabel(\"epochs\", fontsize=18)\n",
    "plt.ylabel(\"Learning Rate\", fontsize=18)\n",
    "plt.grid()\n",
    "ax.set_yscale('log')"
   ]
  },
  {
   "cell_type": "code",
   "execution_count": null,
   "metadata": {
    "scrolled": true
   },
   "outputs": [],
   "source": [
    "fig, ax, = plt.subplots(figsize=(15,10))\n",
    "\n",
    "ax.plot(his_my_stepy.history['loss'], 'b', label = 'Step Decay Modificado')\n",
    "ax.plot(his_step.history['loss'] ,'m',label='Step Decay')\n",
    "######################################################\n",
    "\n",
    "#########################################################\n",
    "\n",
    "ax.legend()\n",
    "plt.legend(fontsize=14)\n",
    "plt.xticks(fontsize=14)\n",
    "plt.yticks(fontsize=14)\n",
    "plt.title('Comparacion de Learning Rates 1000 Epocas')\n",
    "plt.xlabel(\"epochs\", fontsize=18)\n",
    "plt.ylabel(\"Loss\", fontsize=18)\n",
    "plt.grid()\n",
    "ax.set_yscale('log')\n",
    "plt.savefig('comparacion_step_1000',dpi=300, bbox_inches='tight')\n",
    "#ax.set(xlabel='epoch', ylabel='loss',title='Comparación')"
   ]
  },
  {
   "cell_type": "code",
   "execution_count": null,
   "metadata": {},
   "outputs": [],
   "source": []
  }
 ],
 "metadata": {
  "kernelspec": {
   "display_name": "Python 3",
   "language": "python",
   "name": "python3"
  },
  "language_info": {
   "codemirror_mode": {
    "name": "ipython",
    "version": 3
   },
   "file_extension": ".py",
   "mimetype": "text/x-python",
   "name": "python",
   "nbconvert_exporter": "python",
   "pygments_lexer": "ipython3",
   "version": "3.6.9"
  }
 },
 "nbformat": 4,
 "nbformat_minor": 4
}
