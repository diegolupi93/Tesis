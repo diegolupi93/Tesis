{
 "cells": [
  {
   "cell_type": "markdown",
   "metadata": {},
   "source": [
    "# Primera Red 1000 epocas con step decay"
   ]
  },
  {
   "cell_type": "code",
   "execution_count": null,
   "metadata": {},
   "outputs": [],
   "source": [
    "#coding=utf-8\n",
    "from keras.models import load_model\n",
    "from utils.sample import Sample\n",
    "from utils.black_scholes import raiz_ratio\n",
    "import math\n",
    "import numpy as np\n",
    "from sklearn.metrics import r2_score\n",
    "import tensorflow as tf\n",
    "import matplotlib.pyplot as plt\n",
    "import pandas as pd\n",
    "\n",
    "GPUs = len(tf.config.experimental.list_physical_devices('GPU'))\n",
    "CPUs = len(tf.config.experimental.list_physical_devices('CPU'))\n",
    "\n",
    "if GPUs > 0:\n",
    "    \n",
    "    print(\"Num GPUs Available: \", GPUs)\n",
    "    print(\"Num CPUs Available: \", CPUs)\n",
    "    config = tf.compat.v1.ConfigProto( device_count = \\\n",
    "                                      {'GPU': GPUs , 'CPU': CPUs}) \n",
    "    sess = tf.compat.v1.Session(config=config) \n",
    "    tf.compat.v1.keras.backend.set_session(sess)\n"
   ]
  },
  {
   "cell_type": "code",
   "execution_count": null,
   "metadata": {},
   "outputs": [],
   "source": [
    "wide = Sample(ratio=[0.4, 1.6], T=[0.2, 1.1],\n",
    "              r=[0.02, 0.1], o=[0.01, 1])\n",
    "\n",
    "N = 10**5 # Tamaño de la muestra\n",
    "\n",
    "wide.create('wide', N=N)\n",
    "x_wide, y_wide = wide.open('wide')\n",
    "\n",
    "narrow = Sample(ratio=[0.5, 1.5], T=[0.3, 0.95],\n",
    "                r=[0.03, 0.08], o=[0.02, 0.9])\n",
    "narrow.create('narrow', N=N)\n",
    "x_narrow, y_narrow = narrow.open('narrow')\n"
   ]
  },
  {
   "cell_type": "code",
   "execution_count": null,
   "metadata": {},
   "outputs": [],
   "source": [
    "model = load_model('models/first.h5')\n",
    "\n",
    "wide_f = pd.DataFrame(x_wide,\n",
    "                    columns=['c/k', 'ratio', 'r', 'T'])\n",
    "wide_f['o'] = y_wide\n",
    "wide_predict = model.predict(x_wide)\n",
    "wide_f['predicted'] = wide_predict\n",
    "wide_f['diff'] = wide_f['o'] - wide_f['predicted']\n",
    "wide_f['error'] = wide_f['diff'].apply(abs)\n",
    "\n",
    "narrow_f = pd.DataFrame(x_narrow,\n",
    "                    columns=['c/k', 'ratio', 'r', 'T'])\n",
    "narrow_f['o'] = y_narrow\n",
    "narrow_predict = model.predict(x_narrow)\n",
    "narrow_f['predicted'] = narrow_predict\n",
    "narrow_f['diff'] = narrow_f['o'] - narrow_f['predicted']\n",
    "narrow_f['error'] = narrow_f['diff'].apply(abs)\n"
   ]
  },
  {
   "cell_type": "code",
   "execution_count": null,
   "metadata": {},
   "outputs": [],
   "source": [
    "wide_mse, wide_mae, wide_mape = tuple(model.evaluate(x_wide, y_wide)[1:])\n",
    "\n",
    "narrow_mse, narrow_mae, narrow_mape = tuple(model.evaluate(x_narrow, y_narrow)[1:])\n",
    "\n",
    "\n",
    "st = 'mse: {}\\nmae: {}\\nmape: {}'\n",
    "print('\\nWide:\\n'+st.format(wide_mse, wide_mae, wide_mape))\n",
    "print('\\n\\nNarrow:\\n'+st.format(narrow_mse, narrow_mae, narrow_mape))"
   ]
  },
  {
   "cell_type": "code",
   "execution_count": null,
   "metadata": {
    "scrolled": true
   },
   "outputs": [],
   "source": [
    "bins = np.linspace(-0.01, 0.01, 33)\n",
    "plt.hist(wide_f['diff'], bins, weights=np.ones(N) / N,\n",
    "                            color='#0504aa',\n",
    "                            alpha=0.7, rwidth=0.85)\n",
    "plt.ylabel('Densidad')\n",
    "\n",
    "plt.xticks(np.linspace(-0.01, 0.01, 11), rotation=45)\n",
    "plt.xlabel('Diferencia')\n",
    "\n",
    "plt.savefig('Predic_w_n',dpi=300, bbox_inches='tight')\n",
    "plt.show()"
   ]
  },
  {
   "cell_type": "code",
   "execution_count": null,
   "metadata": {},
   "outputs": [],
   "source": [
    "bins = np.linspace(-0.01, 0.01, 33)\n",
    "plt.hist(narrow_f['diff'], bins, weights=np.ones(N) / N,\n",
    "                            color='#0504aa',\n",
    "                            alpha=0.7, rwidth=0.85)\n",
    "plt.ylabel('Densidad')\n",
    "\n",
    "plt.xticks(np.linspace(-0.01, 0.01, 11), rotation=45)\n",
    "plt.xlabel('Diferencia')\n",
    "\n",
    "plt.savefig('Predic_n_n',dpi=300, bbox_inches='tight')\n",
    "\n",
    "plt.show()"
   ]
  },
  {
   "cell_type": "code",
   "execution_count": null,
   "metadata": {},
   "outputs": [],
   "source": [
    "#porcetaje que no se grafico con la muestra amplia\n",
    "p = 100*len(wide_f[wide_f['error'] > 0.01])/N\n",
    "print('No se grafico un {}% de la muestra amplia'.format(p))\n",
    "\n",
    "#porcetaje que no se grafico con la muestra angosta\n",
    "p = 100*len(narrow_f[narrow_f['error'] > 0.01])/N\n",
    "print('\\nNo se grafico un {}% de la muestra angosta'.format(p))"
   ]
  },
  {
   "cell_type": "code",
   "execution_count": null,
   "metadata": {},
   "outputs": [],
   "source": [
    "# r2 https://en.wikipedia.org/wiki/Coefficient_of_determination\n",
    "r2_n = r2_score(y_narrow, narrow_f['predicted'])\n",
    "r2_w = r2_score(y_wide, wide_f['predicted'])\n",
    "print('r2 muestra amplia: ', r2_w)\n",
    "print('\\nr2 muestra angosta: ', r2_n)"
   ]
  },
  {
   "cell_type": "markdown",
   "metadata": {},
   "source": [
    "# Red logaritmica 1000 epocas con step decay"
   ]
  },
  {
   "cell_type": "code",
   "execution_count": null,
   "metadata": {},
   "outputs": [],
   "source": [
    "wide = Sample(ratio=[0.4, 1.6], T=[0.2, 1.1],\n",
    "              r=[0.02, 0.1], o=[0.01, 1])\n",
    "N = 10**5\n",
    "wide.create('wide', log=True, N=N)\n",
    "x_wide, y_wide = wide.open('wide', log=True)\n",
    "\n",
    "narrow = Sample(ratio=[0.5, 1.5], T=[0.3, 0.95],\n",
    "                r=[0.03, 0.08], o=[0.02, 0.9])\n",
    "\n",
    "narrow.create('narrow',log=True, N=N)\n",
    "x_narrow, y_narrow = narrow.open('narrow', log=True)\n"
   ]
  },
  {
   "cell_type": "code",
   "execution_count": null,
   "metadata": {},
   "outputs": [],
   "source": [
    "model = load_model('models/1000_log.h5')\n",
    "\n",
    "wide_s = pd.DataFrame(x_wide,\n",
    "                    columns=['c/k', 'ratio', 'r', 'T'])\n",
    "wide_s['o'] = y_wide\n",
    "wide_predict = model.predict(x_wide)\n",
    "wide_s['predicted'] = wide_predict\n",
    "wide_s['diff'] = wide_s['predicted'] - wide_s['o'] \n",
    "wide_s['error'] = wide_s['diff'].apply(abs)\n",
    "\n",
    "narrow_s = pd.DataFrame(x_narrow,\n",
    "                    columns=['c/k', 'ratio', 'r', 'T'])\n",
    "narrow_s['o'] = y_narrow\n",
    "narrow_predict = model.predict(x_narrow)\n",
    "narrow_s['predicted'] = narrow_predict\n",
    "narrow_s['diff'] = narrow_s['predicted'] - narrow_s['o']  \n",
    "narrow_s['error'] = narrow_s['diff'].apply(abs)\n",
    "\n",
    "\n",
    "wide_mse, wide_mae, wide_mape = tuple(model.evaluate(x_wide, y_wide)[1:])\n",
    "\n",
    "narrow_mse, narrow_mae, narrow_mape = tuple(model.evaluate(x_narrow,\n",
    "                                                           y_narrow)[1:])\n",
    "\n",
    "\n",
    "st = 'mse: {}\\nmae: {}\\nmape: {}'\n",
    "print('\\nWide:\\n'+st.format(wide_mse, wide_mae, wide_mape))\n",
    "print('\\n\\nNarrow:\\n'+st.format(narrow_mse, narrow_mae, narrow_mape))"
   ]
  },
  {
   "cell_type": "code",
   "execution_count": null,
   "metadata": {},
   "outputs": [],
   "source": [
    "bins = np.linspace(-0.001, 0.001, 33)\n",
    "plt.hist(wide_s['diff'], bins, weights=np.ones(N) / N,\n",
    "                            color='#0504aa',\n",
    "                            alpha=0.7, rwidth=0.85)\n",
    "plt.ylabel('Densidad')\n",
    "\n",
    "plt.xticks(np.linspace(-0.001, 0.001, 11), rotation=45)\n",
    "plt.xlabel('Diferencia')\n",
    "\n",
    "plt.savefig('Predic_w_log_mil',dpi=300, bbox_inches='tight')\n",
    "\n",
    "plt.show()"
   ]
  },
  {
   "cell_type": "code",
   "execution_count": null,
   "metadata": {},
   "outputs": [],
   "source": [
    "bins = np.linspace(-0.001, 0.001, 33)\n",
    "plt.hist(narrow_s['diff'], bins, weights=np.ones(N) / N,\n",
    "                            color='#0504aa',\n",
    "                            alpha=0.7, rwidth=0.85)\n",
    "plt.ylabel('Densidad')\n",
    "plt.xlabel('Diferencia')\n",
    "plt.xticks(np.linspace(-0.001, 0.001, 11), rotation=45)\n",
    "\n",
    "plt.xlabel('Diferencia')\n",
    "\n",
    "plt.savefig('Predic_n_log_mil',dpi=300, bbox_inches='tight')\n",
    "\n",
    "plt.show()"
   ]
  },
  {
   "cell_type": "code",
   "execution_count": null,
   "metadata": {},
   "outputs": [],
   "source": [
    "#porcetaje que no se grafico con la muestra amplia\n",
    "p = 100*len(wide_s[wide_s['error'] > 0.001])/N\n",
    "print('No se grafico un {}% de la muestra amplia'.format(p))\n",
    "\n",
    "#porcetaje que no se grafico con la muestra angosta\n",
    "p = 100*len(narrow_s[narrow_s['error'] > 0.001])/N\n",
    "print('\\nNo se grafico un {}% de la muestra angosta'.format(p))"
   ]
  },
  {
   "cell_type": "code",
   "execution_count": null,
   "metadata": {},
   "outputs": [],
   "source": [
    "# r2 https://en.wikipedia.org/wiki/Coefficient_of_determination\n",
    "r2_n = r2_score(y_narrow, narrow_s['predicted'])\n",
    "r2_w = r2_score(y_wide, wide_s['predicted'])\n",
    "print('r2 muestra amplia: ', r2_w)\n",
    "print('\\nr2 muestra angosta: ', r2_n)"
   ]
  },
  {
   "cell_type": "markdown",
   "metadata": {},
   "source": [
    "# Red logaritmica 3000 epocas con step decay modificado"
   ]
  },
  {
   "cell_type": "code",
   "execution_count": null,
   "metadata": {},
   "outputs": [],
   "source": [
    "model = load_model('models/second.h5')\n",
    "\n",
    "wide_s = pd.DataFrame(x_wide,\n",
    "                    columns=['c/k', 'ratio', 'r', 'T'])\n",
    "wide_s['o'] = y_wide\n",
    "wide_predict = model.predict(x_wide)\n",
    "wide_s['predicted'] = wide_predict\n",
    "wide_s['diff'] = wide_s['predicted'] - wide_s['o'] \n",
    "wide_s['error'] = wide_s['diff'].apply(abs)\n",
    "\n",
    "narrow_s = pd.DataFrame(x_narrow,\n",
    "                    columns=['c/k', 'ratio', 'r', 'T'])\n",
    "narrow_s['o'] = y_narrow\n",
    "narrow_predict = model.predict(x_narrow)\n",
    "narrow_s['predicted'] = narrow_predict\n",
    "narrow_s['diff'] = narrow_s['predicted'] - narrow_s['o']  \n",
    "narrow_s['error'] = narrow_s['diff'].apply(abs)\n",
    "\n",
    "\n",
    "wide_mse, wide_mae, wide_mape = tuple(model.evaluate(x_wide, y_wide)[1:])\n",
    "\n",
    "narrow_mse, narrow_mae, narrow_mape = tuple(model.evaluate(x_narrow,\n",
    "                                                           y_narrow)[1:])\n",
    "\n",
    "\n",
    "st = 'mse: {}\\nmae: {}\\nmape: {}'\n",
    "print('\\nWide:\\n'+st.format(wide_mse, wide_mae, wide_mape))\n",
    "print('\\n\\nNarrow:\\n'+st.format(narrow_mse, narrow_mae, narrow_mape))"
   ]
  },
  {
   "cell_type": "code",
   "execution_count": null,
   "metadata": {},
   "outputs": [],
   "source": [
    "bins = np.linspace(-0.001, 0.001, 33)\n",
    "plt.hist(wide_s['diff'], bins, weights=np.ones(N) / N,\n",
    "                            color='#0504aa',\n",
    "                            alpha=0.7, rwidth=0.85)\n",
    "plt.ylabel('Densidad')\n",
    "\n",
    "plt.xticks(np.linspace(-0.001, 0.001, 11), rotation=45)\n",
    "plt.xlabel('Diferencia')\n",
    "\n",
    "plt.savefig('Predic_w_log_mil',dpi=300, bbox_inches='tight')\n",
    "\n",
    "plt.show()"
   ]
  },
  {
   "cell_type": "code",
   "execution_count": null,
   "metadata": {},
   "outputs": [],
   "source": [
    "bins = np.linspace(-0.001, 0.001, 33)\n",
    "plt.hist(narrow_s['diff'], bins, weights=np.ones(N) / N,\n",
    "                            color='#0504aa',\n",
    "                            alpha=0.7, rwidth=0.85)\n",
    "plt.ylabel('Densidad')\n",
    "plt.xlabel('Diferencia')\n",
    "plt.xticks(np.linspace(-0.001, 0.001, 11), rotation=45)\n",
    "\n",
    "plt.xlabel('Diferencia')\n",
    "\n",
    "plt.savefig('Predic_n_log_mil',dpi=300, bbox_inches='tight')\n",
    "\n",
    "plt.show()"
   ]
  },
  {
   "cell_type": "code",
   "execution_count": null,
   "metadata": {},
   "outputs": [],
   "source": [
    "#porcetaje que no se grafico con la muestra amplia\n",
    "p = 100*len(wide_s[wide_s['error'] > 0.001])/N\n",
    "print('No se grafico un {}% de la muestra amplia'.format(p))\n",
    "\n",
    "#porcetaje que no se grafico con la muestra angosta\n",
    "p = 100*len(narrow_s[narrow_s['error'] > 0.001])/N\n",
    "print('\\nNo se grafico un {}% de la muestra angosta'.format(p))"
   ]
  },
  {
   "cell_type": "code",
   "execution_count": null,
   "metadata": {},
   "outputs": [],
   "source": [
    "# r2 https://en.wikipedia.org/wiki/Coefficient_of_determination\n",
    "r2_n = r2_score(y_narrow, narrow_s['predicted'])\n",
    "r2_w = r2_score(y_wide, wide_s['predicted'])\n",
    "print('r2 muestra amplia: ', r2_w)\n",
    "print('\\nr2 muestra angosta: ', r2_n)"
   ]
  },
  {
   "cell_type": "code",
   "execution_count": null,
   "metadata": {},
   "outputs": [],
   "source": []
  }
 ],
 "metadata": {
  "kernelspec": {
   "display_name": "Python 3",
   "language": "python",
   "name": "python3"
  },
  "language_info": {
   "codemirror_mode": {
    "name": "ipython",
    "version": 3
   },
   "file_extension": ".py",
   "mimetype": "text/x-python",
   "name": "python",
   "nbconvert_exporter": "python",
   "pygments_lexer": "ipython3",
   "version": "3.6.9"
  }
 },
 "nbformat": 4,
 "nbformat_minor": 4
}
