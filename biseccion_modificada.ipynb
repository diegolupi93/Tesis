{
 "cells": [
  {
   "cell_type": "code",
   "execution_count": null,
   "metadata": {},
   "outputs": [],
   "source": [
    "from utils.sample import Sample\n",
    "from scipy.optimize import brentq\n",
    "import pandas as pd\n",
    "import numpy as np\n",
    "import math\n",
    "import pickle\n",
    "import scipy.stats as st\n",
    "from utils.biseccion import bisec\n",
    "from utils.black_scholes import raiz_ratio\n",
    "from sklearn.metrics import r2_score"
   ]
  },
  {
   "cell_type": "code",
   "execution_count": null,
   "metadata": {},
   "outputs": [],
   "source": [
    "opn = Sample(ratio=[0.4, 1.6], T=[0.2, 1.1], r=[0.02, 0.1], o=[0.01, 1])\n",
    "\n",
    "opn.create('prueba', N=10**5)\n",
    "x_test, y_test = opn.open('prueba')"
   ]
  },
  {
   "cell_type": "code",
   "execution_count": null,
   "metadata": {},
   "outputs": [],
   "source": [
    "df = pd.DataFrame(x_test, columns=['c/k', 'ratio', 'r', 'T'])\n",
    "df['o'] = y_test\n",
    "df.head()"
   ]
  },
  {
   "cell_type": "code",
   "execution_count": null,
   "metadata": {},
   "outputs": [],
   "source": [
    "# Tiro los casos en que no se puede aplicar el metodo de biseccion\n",
    "# y calculo la volatilidad implícita\n",
    "vol_bisec = []\n",
    "vol_brent = []\n",
    "i = 0\n",
    "drops = []\n",
    "for c, ratio, r, T in x_test:\n",
    "    f = lambda x: raiz_ratio(c, ratio, r, x, T)\n",
    "    # que se cumpla la precondicción\n",
    "    if f(0.01) < 0:\n",
    "        # máxima precision\n",
    "        o_bic = bisec(f, 0.01, 1, 2**-56)\n",
    "        o_bren = brentq(f, 0.01, 1, xtol=2**-56)\n",
    "        vol_bisec.append(o_bic)\n",
    "        vol_brent.append(o_bren)\n",
    "    else: \n",
    "        drops.append(i)\n",
    "    i += 1\n",
    "    \n",
    "    if i % 10000 == 0:\n",
    "        print('{}%'.format(100*i/len(x_test)))\n",
    "    \n",
    "    \n",
    "dfb = df.drop(drops)\n",
    "#volatilidad implicita\n",
    "dfb['o_bis'] = vol_bisec\n",
    "dfb['o_bren'] = vol_brent"
   ]
  },
  {
   "cell_type": "code",
   "execution_count": null,
   "metadata": {},
   "outputs": [],
   "source": [
    "# error entre la volatilidad estimada e implícita\n",
    "dfb['diff_bis'] = (dfb['o'] - dfb['o_bis']).apply(abs)\n",
    "dfb['diff_bren'] = (dfb['o'] - dfb['o_bren']).apply(abs)\n",
    "print('Error cuadratico medio biseccion: ', np.square(dfb['o'] - dfb['o_bis']).mean())\n",
    "print('Error absoluto medio biseccion: ', dfb['diff_bis'].mean())\n",
    "aux = 100*(np.abs(dfb['o'] - dfb['o_bis']) / dfb['o']).mean() \n",
    "print('Error absoluto porcentual medio biseccion', aux)\n",
    "print('r2 Biseccion', r2_score(dfb['o'], dfb['o_bis']))\n",
    "\n",
    "print('\\n\\n')\n",
    "\n",
    "print('Error cuadratico medio Brent: ', np.square(dfb['o'] - dfb['o_bren']).mean())\n",
    "print('Error absoluto medio Brent: ', dfb['diff_bren'].mean())\n",
    "aux = 100*(np.abs(dfb['o'] - dfb['o_bren']) / dfb['o']).mean() \n",
    "print('Error absoluto porcentual medio Brent', aux)\n",
    "print('r2 Brent', r2_score(dfb['o'], dfb['o_bren']))"
   ]
  },
  {
   "cell_type": "code",
   "execution_count": null,
   "metadata": {},
   "outputs": [],
   "source": [
    "#Ordeno el dataframe segun el error entre la volatilidad estimada\n",
    "# y la volatilidad implícita del método de bisección\n",
    "orda = dfb.sort_values('diff_bis', ignore_index=True, ascending= False)"
   ]
  },
  {
   "cell_type": "code",
   "execution_count": null,
   "metadata": {},
   "outputs": [],
   "source": [
    "#aplico la función que busca la raiz sobre la volatilidad generada\n",
    "#mediante el método de bisección\n",
    "fs = []\n",
    "auxi = orda[['c/k','ratio','r', 'o_bis', 'T']]\n",
    "for i in range(len(auxi)):\n",
    "    fs.append(raiz_ratio(*auxi.iloc[i]))\n",
    "\n",
    "orda['f(o_bis)'] = fs\n"
   ]
  },
  {
   "cell_type": "code",
   "execution_count": null,
   "metadata": {},
   "outputs": [],
   "source": [
    "orda.head(50)"
   ]
  },
  {
   "cell_type": "markdown",
   "metadata": {},
   "source": [
    "Observar q en muchos casos la diferencia entre la volatilidad implícita y la volatilidad estimada es grande, eso es porque en ciertos casos la volatilidad tiene poco impacto, osea un \"vega bajo\", y por el problema de precisión la función que calcula la raíz retorna 0."
   ]
  },
  {
   "cell_type": "code",
   "execution_count": null,
   "metadata": {},
   "outputs": [],
   "source": [
    "import scipy.stats as si\n",
    "#vega en funcion de ratio. La función retorna vega/K.\n",
    "def vega(ratio, r, o, T):\n",
    "    \n",
    "    d1 = (np.log(ratio) + (r + 0.5 * o ** 2) * T) / (o * np.sqrt(T))\n",
    "    \n",
    "    vega = np.sqrt(T) * ratio * math.exp(-d1**2/2) / np.sqrt(2*math.pi)\n",
    "    \n",
    "    return vega"
   ]
  },
  {
   "cell_type": "code",
   "execution_count": null,
   "metadata": {},
   "outputs": [],
   "source": [
    "def my_vega(elem):\n",
    "    return vega(elem['ratio'], elem['r'], elem['o'], elem['T'])\n",
    "\n",
    "orda['vega/K'] = orda.apply(my_vega, axis=1)"
   ]
  },
  {
   "cell_type": "code",
   "execution_count": null,
   "metadata": {},
   "outputs": [],
   "source": [
    "orda.head(50)"
   ]
  },
  {
   "cell_type": "code",
   "execution_count": null,
   "metadata": {},
   "outputs": [],
   "source": [
    "orda.tail(50)"
   ]
  },
  {
   "cell_type": "code",
   "execution_count": null,
   "metadata": {},
   "outputs": [],
   "source": [
    "#porcentaje de elementos en que no se encontro la raiz\n",
    "# mediante el método de bisección con tolerancia 2**-56\n",
    "100*len(orda[orda['f(o_bis)'] < 0])/len(orda)"
   ]
  },
  {
   "cell_type": "code",
   "execution_count": null,
   "metadata": {},
   "outputs": [],
   "source": []
  }
 ],
 "metadata": {
  "kernelspec": {
   "display_name": "Python 3",
   "language": "python",
   "name": "python3"
  },
  "language_info": {
   "codemirror_mode": {
    "name": "ipython",
    "version": 3
   },
   "file_extension": ".py",
   "mimetype": "text/x-python",
   "name": "python",
   "nbconvert_exporter": "python",
   "pygments_lexer": "ipython3",
   "version": "3.6.9"
  }
 },
 "nbformat": 4,
 "nbformat_minor": 4
}
