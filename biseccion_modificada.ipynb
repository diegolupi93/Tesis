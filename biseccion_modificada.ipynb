{
 "cells": [
  {
   "cell_type": "code",
   "execution_count": null,
   "metadata": {},
   "outputs": [],
   "source": [
    "from utils.sample import Sample\n",
    "from scipy.optimize import brentq\n",
    "import pandas as pd\n",
    "import numpy as np\n",
    "import math\n",
    "import pickle\n",
    "import scipy.stats as st\n",
    "import matplotlib.pyplot as plt\n",
    "from utils.biseccion import bisec\n",
    "from utils.black_scholes import raiz_ratio, raiz, call_price, d1\n",
    "from sklearn.metrics import r2_score"
   ]
  },
  {
   "cell_type": "code",
   "execution_count": null,
   "metadata": {},
   "outputs": [],
   "source": [
    "i = 0\n",
    "sampl = []\n",
    "result = []\n",
    "while i < 10**5:\n",
    "    S = np.random.uniform(50, 100)\n",
    "    K = np.random.uniform(S/2, S*2)\n",
    "    T = np.random.uniform(0.2, 1.1)\n",
    "    r = np.random.uniform(0.02, 0.1)\n",
    "    o = np.random.uniform(0.01, 1)\n",
    "    c = call_price(S, K, r, o, T)\n",
    "    if c > 0:\n",
    "        result.append(o)\n",
    "        sampl.append([c , S, K, r, T])\n",
    "\n",
    "        i += 1"
   ]
  },
  {
   "cell_type": "code",
   "execution_count": null,
   "metadata": {},
   "outputs": [],
   "source": [
    "df = pd.DataFrame(sampl, columns=['c', 'S', 'k', 'r', 'T'])\n",
    "df['o'] = result\n",
    "df.head()"
   ]
  },
  {
   "cell_type": "code",
   "execution_count": null,
   "metadata": {},
   "outputs": [],
   "source": []
  },
  {
   "cell_type": "code",
   "execution_count": null,
   "metadata": {},
   "outputs": [],
   "source": [
    "# Tiro los casos en que no se puede aplicar el metodo de biseccion\n",
    "# y calculo la volatilidad implícita\n",
    "vol_bisec = []\n",
    "vol_brent = []\n",
    "i = 0\n",
    "drops = []\n",
    "for c, S, k, r, T in sampl:\n",
    "    f = lambda x: raiz(c, S, k, r, x, T)\n",
    "    # que se cumpla la precondicción\n",
    "    if f(0.01) < 0:\n",
    "        # máxima precision\n",
    "        o_bic = bisec(f, 0.01, 1, 2**-56)\n",
    "        o_bren = brentq(f, 0.01, 1, xtol=2**-56)\n",
    "        vol_bisec.append(o_bic)\n",
    "        vol_brent.append(o_bren)\n",
    "    else: \n",
    "        drops.append(i)\n",
    "    i += 1\n",
    "    \n",
    "    if i % 10000 == 0:\n",
    "        print('{}%'.format(100*i/len(sampl)))\n",
    "    \n",
    "    \n",
    "dfb = df.drop(drops)\n",
    "#volatilidad implicita\n",
    "dfb['o_bis'] = vol_bisec\n",
    "dfb['o_bren'] = vol_brent"
   ]
  },
  {
   "cell_type": "code",
   "execution_count": null,
   "metadata": {},
   "outputs": [],
   "source": [
    "# error entre la volatilidad estimada e implícita\n",
    "dfb['diff_bis'] = (dfb['o'] - dfb['o_bis']).apply(abs)\n",
    "dfb['diff_bren'] = (dfb['o'] - dfb['o_bren']).apply(abs)\n",
    "print('Error cuadratico medio biseccion: ', np.square(dfb['o'] - dfb['o_bis']).mean())\n",
    "print('Error absoluto medio biseccion: ', dfb['diff_bis'].mean())\n",
    "aux = 100*(np.abs(dfb['o'] - dfb['o_bis']) / dfb['o']).mean() \n",
    "print('Error absoluto porcentual medio biseccion', aux)\n",
    "print('r2 Biseccion', r2_score(dfb['o'], dfb['o_bis']))\n",
    "\n",
    "print('\\n\\n')\n",
    "\n",
    "print('Error cuadratico medio Brent: ', np.square(dfb['o'] - dfb['o_bren']).mean())\n",
    "print('Error absoluto medio Brent: ', dfb['diff_bren'].mean())\n",
    "aux = 100*(np.abs(dfb['o'] - dfb['o_bren']) / dfb['o']).mean() \n",
    "print('Error absoluto porcentual medio Brent', aux)\n",
    "print('r2 Brent', r2_score(dfb['o'], dfb['o_bren']))"
   ]
  },
  {
   "cell_type": "code",
   "execution_count": null,
   "metadata": {},
   "outputs": [],
   "source": [
    "#Ordeno el dataframe segun el error entre la volatilidad estimada\n",
    "# y la volatilidad implícita del método de bisección\n",
    "orda = dfb.sort_values('diff_bis', ignore_index=True, ascending= False)"
   ]
  },
  {
   "cell_type": "code",
   "execution_count": null,
   "metadata": {},
   "outputs": [],
   "source": [
    "#aplico la función que busca la raiz sobre la volatilidad generada\n",
    "#mediante el método de bisección\n",
    "fs = []\n",
    "auxi = orda[['c','S', 'k', 'r', 'o_bis', 'T']]\n",
    "for i in range(len(auxi)):\n",
    "    fs.append(raiz(*auxi.iloc[i]))\n",
    "\n",
    "orda['f(o_bis)'] = fs\n"
   ]
  },
  {
   "cell_type": "code",
   "execution_count": null,
   "metadata": {},
   "outputs": [],
   "source": [
    "orda.head()"
   ]
  },
  {
   "cell_type": "markdown",
   "metadata": {},
   "source": [
    "Observar q en muchos casos la diferencia entre la volatilidad implícita y la volatilidad estimada es grande, eso es porque en ciertos casos la volatilidad tiene poco impacto, osea un \"vega bajo\", y por el problema de precisión la función que calcula la raíz retorna 0."
   ]
  },
  {
   "cell_type": "code",
   "execution_count": null,
   "metadata": {},
   "outputs": [],
   "source": [
    "\n",
    "#vega en funcion de ratio. La función retorna vega/K.\n",
    "def vega(S, K, r, o, T):\n",
    "    \n",
    "    d1 = (np.log(S/K) + (r + 0.5 * o ** 2) * T) / (o * np.sqrt(T))\n",
    "    \n",
    "    vega = np.sqrt(T) * S * math.exp(-d1**2/2) / np.sqrt(2*math.pi)\n",
    "    \n",
    "    return vega"
   ]
  },
  {
   "cell_type": "code",
   "execution_count": null,
   "metadata": {},
   "outputs": [],
   "source": [
    "SUB = str.maketrans(\"0123456789\", \"₀₁₂₃₄₅₆₇₈₉\")\n",
    "\n",
    "fi_1 = '\\u03A61'.translate(SUB)+'(o)'\n",
    "fi_2 = '\\u03A62'.translate(SUB)+'(o)'\n",
    "fi_1_b = '\\u03A61'.translate(SUB)+'(o_bis)'\n",
    "fi_2_b = '\\u03A62'.translate(SUB)+'(o_bis)'\n",
    "fi_1_01 = '\\u03A61'.translate(SUB)+'(0.01)'\n",
    "fi_2_01 = '\\u03A62'.translate(SUB)+'(0.01)'\n",
    "\n",
    "fi_1, fi_2, fi_1_01, fi_2_01"
   ]
  },
  {
   "cell_type": "code",
   "execution_count": null,
   "metadata": {},
   "outputs": [],
   "source": [
    "def my_vega(elem):\n",
    "    return vega(elem['S'],elem['k'], elem['r'], elem['o'], elem['T'])\n",
    "\n",
    "d_1 = d1(*orda[['S','k','r','o','T']].iloc[0])\n",
    "#d_2 = d_1 - orda.iloc[0]['o']*math.sqrt(orda.iloc[0]['T']) \n",
    "d_2 = d_1 - 0.01*math.sqrt(orda.iloc[0]['T']) \n",
    "norm1 = st.norm.cdf(d_1)\n",
    "d_1_p =d1(*orda[['S','k','r']].iloc[0],0.01,orda.iloc[0]['T'])\n",
    "st.norm.cdf(d_1), st.norm.cdf(d_2)\n",
    "\n",
    "def my_norm_1(elem):\n",
    "    d_1 = d1(elem['S'],elem['k'], elem['r'], elem['o'], elem['T'])\n",
    "    return st.norm.cdf(d_1)\n",
    "\n",
    "def my_norm_2(elem):\n",
    "    d_1 = d1(elem['S'],elem['k'], elem['r'], elem['o'], elem['T'])\n",
    "    return st.norm.cdf(d_1 - elem['o']*math.sqrt(elem['T']))\n",
    "\n",
    "def my_norm_1_b(elem):\n",
    "    d_1 = d1(elem['S'],elem['k'], elem['r'], elem['o_bis'], elem['T'])\n",
    "    return st.norm.cdf(d_1)\n",
    "\n",
    "def my_norm_2_b(elem):\n",
    "    d_1 = d1(elem['S'],elem['k'], elem['r'], elem['o_bis'], elem['T'])\n",
    "    return st.norm.cdf(d_1 - elem['o']*math.sqrt(elem['T']))\n",
    "\n",
    "def my_norm_1_001(elem):\n",
    "    d_1 = d1(elem['S'],elem['k'], elem['r'], 0.01, elem['T'])\n",
    "    return st.norm.cdf(d_1)\n",
    "\n",
    "def my_norm_2_001(elem):\n",
    "    d_1 = d1(elem['S'],elem['k'], elem['r'], 0.01, elem['T'])\n",
    "    return st.norm.cdf(d_1 - 0.01*math.sqrt(elem['T']))\n",
    "\n",
    "\n",
    "orda['vega'] = orda.apply(my_vega, axis=1)\n",
    "orda[fi_1] = orda.apply(my_norm_1, axis=1)\n",
    "orda[fi_2] = orda.apply(my_norm_2, axis=1)\n",
    "orda[fi_1_01] = orda.apply(my_norm_1_001, axis=1)\n",
    "orda[fi_2_01] = orda.apply(my_norm_2_001, axis=1)\n",
    "orda[fi_1_b] = orda.apply(my_norm_1_b, axis=1)\n",
    "orda[fi_2_b] = orda.apply(my_norm_2_b, axis=1)\n"
   ]
  },
  {
   "cell_type": "code",
   "execution_count": null,
   "metadata": {},
   "outputs": [],
   "source": [
    "orda.head(50)"
   ]
  },
  {
   "cell_type": "code",
   "execution_count": null,
   "metadata": {},
   "outputs": [],
   "source": [
    "#Los que tienen mas error cumplen esa condicion\n",
    "#Obsevar en la celda siguiente a esta que hay vetas mucho menor\n",
    "# a este ejemplo, y sin embargo tiene un error mucho mas grande\n",
    "print(fi_1 + ': {}'.format(orda.iloc[0][fi_1]))\n",
    "print(fi_2 + ': {}'.format(orda.iloc[0][fi_2]))\n",
    "print(fi_1_b + ': {}'.format(orda.iloc[0][fi_1_b]))\n",
    "print(fi_2_b + ': {}'.format(orda.iloc[0][fi_2_b]))\n",
    "\n",
    "print(fi_1_01 + ': {}'.format(orda.iloc[0][fi_1_01]))\n",
    "print(fi_2_01 + ': {}'.format(orda.iloc[0][fi_2_01]))\n",
    "print('f(o_bis): ', orda['f(o_bis)'].iloc[0])"
   ]
  },
  {
   "cell_type": "code",
   "execution_count": null,
   "metadata": {},
   "outputs": [],
   "source": [
    "\n",
    "with open('dataFrame/orda.pickle', 'wb') as handle:\n",
    "    pickle.dump(orda, handle, protocol=pickle.HIGHEST_PROTOCOL)"
   ]
  },
  {
   "cell_type": "code",
   "execution_count": null,
   "metadata": {},
   "outputs": [],
   "source": [
    "ordy = pd.read_csv('dataFrame/orda.csv')\n",
    "ordy.head()"
   ]
  },
  {
   "cell_type": "code",
   "execution_count": null,
   "metadata": {},
   "outputs": [],
   "source": [
    "#Observar q los casos con mas error son ITM\n",
    "#Fitro por ratio < 1 OTM\n",
    "#NOTAR QUE HAY CASOS CON VEGA EXTREMADAMENTE CHICO PERO SU ERROR NO ES GRANDE\n",
    "orda[orda['S']/orda['k'] < 1].head(50)\n"
   ]
  },
  {
   "cell_type": "code",
   "execution_count": null,
   "metadata": {},
   "outputs": [],
   "source": [
    "#porcentaje de elementos en que no se encontro la raiz\n",
    "# mediante el método de bisección con tolerancia 2**-56\n",
    "100*len(orda[orda['f(o_bis)'] != 0])/len(orda)\n",
    "#quiere decir q no termina, si no que corta a las 100 iteraciones\n"
   ]
  },
  {
   "cell_type": "code",
   "execution_count": null,
   "metadata": {},
   "outputs": [],
   "source": [
    "ordas = orda.sort_values('vega', ignore_index=True)"
   ]
  },
  {
   "cell_type": "code",
   "execution_count": null,
   "metadata": {},
   "outputs": [],
   "source": [
    "auxi = ordas[(ordas['o'] < 0.52) & (ordas['o'] > 0.48)]\n",
    "vega_chico = auxi.iloc[0]\n",
    "vega_grande = auxi.iloc[-1]\n",
    "vega_mediano = auxi.iloc[len(auxi)//2]\n",
    "vega_new = auxi.iloc[len(auxi)//4]\n",
    "print('Vega Chico: ', vega_chico['vega'])\n",
    "print('Vega Mediano: ', vega_mediano['vega'])\n",
    "print('Vega Grande: ', vega_grande['vega'])\n"
   ]
  },
  {
   "cell_type": "code",
   "execution_count": null,
   "metadata": {},
   "outputs": [],
   "source": [
    "def my_call_price(o, elem=vega_chico):\n",
    "    return call_price(elem['S'], elem['k'], elem['r'], o, elem['T'])\n",
    "\n",
    "sdvc = np.vectorize(my_call_price)\n",
    "\n",
    "f = lambda x: my_call_price(x, elem=vega_grande)\n",
    "sdvg = np.vectorize(f)\n",
    "\n",
    "m = lambda x: my_call_price(x, elem=vega_mediano)\n",
    "sdvm = np.vectorize(m)"
   ]
  },
  {
   "cell_type": "code",
   "execution_count": null,
   "metadata": {},
   "outputs": [],
   "source": [
    "fig, ax, = plt.subplots(figsize=(15,10))\n",
    "volatilidad = np.linspace(0.001, 2, 1000)\n",
    "#ax.plot(history_clr.history['loss'], 'b', label = 'implied volatility')\n",
    "my_round = lambda x: round(x, 4)\n",
    "ax.plot(volatilidad, sdvc(volatilidad),'m',\n",
    "    label='Vega Chico S: {}, K: {}, r: {}, T: {}, vega(o=0.5): {}'.format(*vega_chico[['S','k', 'r', 'T', 'vega']].apply(my_round)))\n",
    "\n",
    "######################################################\n",
    "ax.plot(volatilidad, sdvm(volatilidad),'k',\n",
    "    label='Vega Mediano S: {}, K: {}, r: {}, T: {}, vega(o=0.5): {}'.format(*vega_mediano[['S','k', 'r', 'T', 'vega']].apply(my_round)))\n",
    "######################################################\n",
    "ax.plot(volatilidad, sdvg(volatilidad),'b',\n",
    "    label='Vega Grande S: {}, K: {}, r: {}, T: {}, vega(o=0.5): {}'.format(*vega_grande[['S','k', 'r', 'T', 'vega']].apply(my_round)))\n",
    "#########################################################\n",
    "\n",
    "ax.legend()\n",
    "plt.legend(fontsize=14)\n",
    "plt.title('Comparacion vega vs volatilidad')\n",
    "plt.xticks(fontsize=14)\n",
    "plt.yticks(fontsize=14)\n",
    "plt.xlabel(\"volatilidad\", fontsize=18)\n",
    "plt.ylabel(\"precio call\", fontsize=18)\n",
    "plt.grid()\n",
    "plt.savefig('volatilidad_vega',dpi=300, bbox_inches='tight')\n",
    "plt.show()"
   ]
  },
  {
   "cell_type": "code",
   "execution_count": null,
   "metadata": {},
   "outputs": [],
   "source": []
  }
 ],
 "metadata": {
  "kernelspec": {
   "display_name": "Python 3",
   "language": "python",
   "name": "python3"
  },
  "language_info": {
   "codemirror_mode": {
    "name": "ipython",
    "version": 3
   },
   "file_extension": ".py",
   "mimetype": "text/x-python",
   "name": "python",
   "nbconvert_exporter": "python",
   "pygments_lexer": "ipython3",
   "version": "3.6.9"
  }
 },
 "nbformat": 4,
 "nbformat_minor": 4
}
