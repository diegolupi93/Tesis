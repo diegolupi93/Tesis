{
 "cells": [
  {
   "cell_type": "code",
   "execution_count": 1,
   "metadata": {},
   "outputs": [],
   "source": [
    "from utils.sample import Sample\n",
    "from scipy.optimize import brentq\n",
    "import pandas as pd\n",
    "import numpy as np\n",
    "from utils.biseccion import bisec\n",
    "from utils.black_scholes import raiz_ratio"
   ]
  },
  {
   "cell_type": "code",
   "execution_count": 2,
   "metadata": {},
   "outputs": [
    {
     "name": "stdout",
     "output_type": "stream",
     "text": [
      "prueba is done ...\n"
     ]
    }
   ],
   "source": [
    "opn = Sample(ratio=[0.4, 1.6], T=[0.2, 1.1], r=[0.02, 0.1], o=[0.01, 1])\n",
    "\n",
    "opn.create('prueba', N=10**5)\n",
    "x_test, y_test = opn.open('prueba')"
   ]
  },
  {
   "cell_type": "code",
   "execution_count": 3,
   "metadata": {},
   "outputs": [
    {
     "data": {
      "text/html": [
       "<div>\n",
       "<style scoped>\n",
       "    .dataframe tbody tr th:only-of-type {\n",
       "        vertical-align: middle;\n",
       "    }\n",
       "\n",
       "    .dataframe tbody tr th {\n",
       "        vertical-align: top;\n",
       "    }\n",
       "\n",
       "    .dataframe thead th {\n",
       "        text-align: right;\n",
       "    }\n",
       "</style>\n",
       "<table border=\"1\" class=\"dataframe\">\n",
       "  <thead>\n",
       "    <tr style=\"text-align: right;\">\n",
       "      <th></th>\n",
       "      <th>c/k</th>\n",
       "      <th>ratio</th>\n",
       "      <th>r</th>\n",
       "      <th>T</th>\n",
       "      <th>o</th>\n",
       "    </tr>\n",
       "  </thead>\n",
       "  <tbody>\n",
       "    <tr>\n",
       "      <th>0</th>\n",
       "      <td>0.441499</td>\n",
       "      <td>1.371435</td>\n",
       "      <td>0.062964</td>\n",
       "      <td>0.895456</td>\n",
       "      <td>0.305334</td>\n",
       "    </tr>\n",
       "    <tr>\n",
       "      <th>1</th>\n",
       "      <td>0.257882</td>\n",
       "      <td>0.767202</td>\n",
       "      <td>0.087680</td>\n",
       "      <td>1.063099</td>\n",
       "      <td>0.983711</td>\n",
       "    </tr>\n",
       "    <tr>\n",
       "      <th>2</th>\n",
       "      <td>0.003067</td>\n",
       "      <td>0.480338</td>\n",
       "      <td>0.051090</td>\n",
       "      <td>1.019323</td>\n",
       "      <td>0.364317</td>\n",
       "    </tr>\n",
       "    <tr>\n",
       "      <th>3</th>\n",
       "      <td>0.678499</td>\n",
       "      <td>1.432576</td>\n",
       "      <td>0.025423</td>\n",
       "      <td>0.924455</td>\n",
       "      <td>0.930406</td>\n",
       "    </tr>\n",
       "    <tr>\n",
       "      <th>4</th>\n",
       "      <td>0.481538</td>\n",
       "      <td>1.462461</td>\n",
       "      <td>0.069658</td>\n",
       "      <td>0.204219</td>\n",
       "      <td>0.511008</td>\n",
       "    </tr>\n",
       "  </tbody>\n",
       "</table>\n",
       "</div>"
      ],
      "text/plain": [
       "        c/k     ratio         r         T         o\n",
       "0  0.441499  1.371435  0.062964  0.895456  0.305334\n",
       "1  0.257882  0.767202  0.087680  1.063099  0.983711\n",
       "2  0.003067  0.480338  0.051090  1.019323  0.364317\n",
       "3  0.678499  1.432576  0.025423  0.924455  0.930406\n",
       "4  0.481538  1.462461  0.069658  0.204219  0.511008"
      ]
     },
     "execution_count": 3,
     "metadata": {},
     "output_type": "execute_result"
    }
   ],
   "source": [
    "df = pd.DataFrame(x_test, columns=['c/k', 'ratio', 'r', 'T'])\n",
    "df['o'] = y_test\n",
    "df.head()"
   ]
  },
  {
   "cell_type": "code",
   "execution_count": 4,
   "metadata": {},
   "outputs": [
    {
     "name": "stdout",
     "output_type": "stream",
     "text": [
      "10000\n",
      "20000\n",
      "30000\n",
      "40000\n",
      "50000\n",
      "60000\n",
      "70000\n",
      "80000\n",
      "90000\n",
      "100000\n"
     ]
    }
   ],
   "source": [
    "# Tiro los casos en que no se puede aplicar el metodo de biseccion\n",
    "# y calculo la volatilidad implícita\n",
    "vol = []\n",
    "i = 0\n",
    "drops = []\n",
    "for c, ratio, r, T in x_test:\n",
    "    f = lambda x: raiz_ratio(c, ratio, r, x, T)\n",
    "    # que se cumpla la precondicción\n",
    "    if f(0.01) < 0:\n",
    "        # máxima precision\n",
    "        o = bisec(f, 0.01, 1, 2**-56)\n",
    "        vol.append(o)\n",
    "    else: \n",
    "        drops.append(i)\n",
    "    i += 1\n",
    "    \n",
    "    if i % 10000 == 0:\n",
    "        print('{}%'.format(100*i/len(x_test)))\n",
    "    \n",
    "    \n",
    "dfb = df.drop(drops)\n",
    "#volatilidad implicita\n",
    "dfb['o_est'] = vol"
   ]
  },
  {
   "cell_type": "code",
   "execution_count": 5,
   "metadata": {},
   "outputs": [
    {
     "name": "stdout",
     "output_type": "stream",
     "text": [
      "Error absoluto medio biseccion:  2.758172662768739e-06\n"
     ]
    }
   ],
   "source": [
    "# error entre la volatilidad estimada e implícita\n",
    "dfb['diff'] = (dfb['o'] - dfb['o_est']).apply(abs)\n",
    "print('Error absoluto medio biseccion: ', dfb['diff'].mean())"
   ]
  },
  {
   "cell_type": "code",
   "execution_count": 6,
   "metadata": {},
   "outputs": [
    {
     "ename": "TypeError",
     "evalue": "sort_values() got an unexpected keyword argument 'ignore_index'",
     "output_type": "error",
     "traceback": [
      "\u001b[0;31m---------------------------------------------------------------------------\u001b[0m",
      "\u001b[0;31mTypeError\u001b[0m                                 Traceback (most recent call last)",
      "\u001b[0;32m<ipython-input-6-41fffc2c399a>\u001b[0m in \u001b[0;36m<module>\u001b[0;34m\u001b[0m\n\u001b[1;32m      1\u001b[0m \u001b[0;31m#Ordeno el dataframe segun el error entre la volatilidad estimada\u001b[0m\u001b[0;34m\u001b[0m\u001b[0;34m\u001b[0m\u001b[0m\n\u001b[1;32m      2\u001b[0m \u001b[0;31m# y la volatilidad implícita\u001b[0m\u001b[0;34m\u001b[0m\u001b[0;34m\u001b[0m\u001b[0m\n\u001b[0;32m----> 3\u001b[0;31m \u001b[0morda\u001b[0m \u001b[0;34m=\u001b[0m \u001b[0mdfb\u001b[0m\u001b[0;34m.\u001b[0m\u001b[0msort_values\u001b[0m\u001b[0;34m(\u001b[0m\u001b[0;34m'diff'\u001b[0m\u001b[0;34m,\u001b[0m \u001b[0mignore_index\u001b[0m\u001b[0;34m=\u001b[0m\u001b[0;32mTrue\u001b[0m\u001b[0;34m,\u001b[0m \u001b[0mascending\u001b[0m\u001b[0;34m=\u001b[0m \u001b[0;32mFalse\u001b[0m\u001b[0;34m)\u001b[0m\u001b[0;34m\u001b[0m\u001b[0m\n\u001b[0m",
      "\u001b[0;31mTypeError\u001b[0m: sort_values() got an unexpected keyword argument 'ignore_index'"
     ]
    }
   ],
   "source": [
    "#Ordeno el dataframe segun el error entre la volatilidad estimada\n",
    "# y la volatilidad implícita\n",
    "orda = dfb.sort_values('diff', ignore_index=True, ascending= False)"
   ]
  },
  {
   "cell_type": "code",
   "execution_count": null,
   "metadata": {},
   "outputs": [],
   "source": [
    "#aplico la función que busca la raiz sobre la volatilidad generada\n",
    "#mediante el método de bisección\n",
    "fs = []\n",
    "auxi = orda[['c/k','ratio','r', 'o_est', 'T']]\n",
    "for i in range(len(auxi)):\n",
    "    fs.append(raiz_ratio(*auxi.iloc[i]))\n",
    "\n",
    "orda['f(o_est)'] = fs\n"
   ]
  },
  {
   "cell_type": "code",
   "execution_count": null,
   "metadata": {},
   "outputs": [],
   "source": [
    "orda.head(50)"
   ]
  },
  {
   "cell_type": "markdown",
   "metadata": {},
   "source": [
    "Observar q en muchos casos la diferencia entre la volatilidad implícita y la volatilidad estimada es grande, eso es porque en ciertos casos la volatilidad tiene poco impacto, osea un vega bajo, y por el problema de precisión la función que calcula la raíz retorna 0."
   ]
  },
  {
   "cell_type": "code",
   "execution_count": null,
   "metadata": {},
   "outputs": [],
   "source": []
  }
 ],
 "metadata": {
  "kernelspec": {
   "display_name": "Python 3",
   "language": "python",
   "name": "python3"
  },
  "language_info": {
   "codemirror_mode": {
    "name": "ipython",
    "version": 3
   },
   "file_extension": ".py",
   "mimetype": "text/x-python",
   "name": "python",
   "nbconvert_exporter": "python",
   "pygments_lexer": "ipython3",
   "version": "3.5.2"
  }
 },
 "nbformat": 4,
 "nbformat_minor": 4
}
