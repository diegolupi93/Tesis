{
 "cells": [
  {
   "cell_type": "code",
   "execution_count": null,
   "metadata": {},
   "outputs": [],
   "source": [
    "import pickle\n",
    "import numpy as np\n",
    "import matplotlib.pyplot as plt\n",
    "import matplotlib.gridspec as gridspec\n",
    "from utils.black_scholes import raiz_ratio, d1_ratio, call_price_ratio\n",
    "from utils.biseccion import bisec\n",
    "import math\n",
    "import scipy.stats as st\n",
    "from utils.sample import Sample\n",
    "import pandas as pd\n",
    "\n",
    "def f(x):\n",
    "    return raiz_ratio(c, ratio, r, x, T)\n"
   ]
  },
  {
   "cell_type": "code",
   "execution_count": null,
   "metadata": {},
   "outputs": [],
   "source": [
    "## Para crear muestra\n",
    "\n",
    "obj = Sample(ratio=[0.4, 1.6], T=[0.2,1.1], r=[0.02, 0.1], o=[0.01, 1])\n",
    "obj.create('my_muestra', 10**5)"
   ]
  },
  {
   "cell_type": "code",
   "execution_count": null,
   "metadata": {},
   "outputs": [],
   "source": [
    "#abro my muestra\n",
    "obj = Sample()\n",
    "x, y = obj.open('my_muestra')"
   ]
  },
  {
   "cell_type": "code",
   "execution_count": null,
   "metadata": {},
   "outputs": [],
   "source": [
    "df = pd.DataFrame(x, columns=['c/k', 'ratio', 'r', 'T'])"
   ]
  },
  {
   "cell_type": "code",
   "execution_count": null,
   "metadata": {},
   "outputs": [],
   "source": [
    "df['o'] = y\n",
    "df"
   ]
  },
  {
   "cell_type": "code",
   "execution_count": null,
   "metadata": {},
   "outputs": [],
   "source": [
    "def my_f(e):\n",
    "    return raiz_ratio(e['c/k'], e['ratio'], e['r'], 0.01, e['T'])\n",
    "\n",
    "def norm_1(e, o=0.01):\n",
    "    return st.norm.cdf(d1_ratio(e['ratio'], e['r'], o, e['T']))\n",
    "\n",
    "def norm_2(e, o=0.01):\n",
    "    return st.norm.cdf(d1_ratio(e['ratio'], e['r'], o, e['T'])- o*math.sqrt(e['T']))"
   ]
  },
  {
   "cell_type": "code",
   "execution_count": null,
   "metadata": {},
   "outputs": [],
   "source": [
    "def norm1p(e):\n",
    "    return st.norm.cdf(d1_ratio(e['ratio'], e['r'], e['o'], e['T']))\n",
    "\n",
    "\n",
    "def norm2p(e):\n",
    "    return st.norm.cdf(d1_ratio(e['ratio'], e['r'], e['o'], e['T'])- e['o']*math.sqrt(e['T']))"
   ]
  },
  {
   "cell_type": "code",
   "execution_count": null,
   "metadata": {},
   "outputs": [],
   "source": [
    "#tarda tiempo, agregar norm 1 y norm 2\n",
    "df['f(0.01)'] = df.apply(my_f, axis=1)\n",
    "df['norm1'] = df.apply(norm_1, axis=1) #es la normal de la volatilidad == 0.01\n",
    "df['norm2'] = df.apply(norm_1, axis=1) #es la normal de la volatilidad == 0.01\n",
    "df['norm1p'] = df.apply(norm1p, axis=1) #es la normal de la volatilidad implícita\n",
    "df['norm2p'] = df.apply(norm2p, axis=1) #es la normal de la volatilidad implícita"
   ]
  },
  {
   "cell_type": "code",
   "execution_count": null,
   "metadata": {},
   "outputs": [],
   "source": [
    "df.head(5)"
   ]
  },
  {
   "cell_type": "code",
   "execution_count": null,
   "metadata": {},
   "outputs": [],
   "source": [
    "#casos en los que no puedo aplicar el método de bisección\n",
    "casos_de_mandinga = df[df['f(0.01)'] > 0]\n",
    "len(df[((df['norm1'] == 1) & (df['norm2'] == 1)) |\n",
    "       ((df['norm1'] == 0) & (df['norm2'] == 0))])\n",
    "len(casos_de_mandinga)"
   ]
  },
  {
   "cell_type": "code",
   "execution_count": null,
   "metadata": {},
   "outputs": [],
   "source": [
    "# minimo y maximo de la normal calculada con la volatilidad implícita\n",
    "# muy cercanos a 1\n",
    "(casos_de_mandinga['norm1p'].min(), casos_de_mandinga['norm1p'].max()) "
   ]
  },
  {
   "cell_type": "code",
   "execution_count": null,
   "metadata": {},
   "outputs": [],
   "source": [
    "#Caso en particular con ratio\n",
    "e = casos_de_mandinga.iloc[0]\n",
    "o_posta = e['o']\n",
    "\n",
    "def f(e, x):\n",
    "    return raiz_ratio(e['c/k'], e['ratio'], e['r'], x, e['T'])\n",
    "\n",
    "o = np.sort(np.append(np.linspace(0.01, 1, 100), np.array([o_posta])))\n",
    "print(o)\n"
   ]
  },
  {
   "cell_type": "code",
   "execution_count": null,
   "metadata": {},
   "outputs": [],
   "source": [
    "# grafico en funcion de f\n",
    "fig = plt.figure(figsize=(8, 10), constrained_layout=True)\n",
    "gs = gridspec.GridSpec(2, 3, figure=fig)\n",
    "ax = fig.add_subplot(gs[0, :])\n",
    "ax.plot(o, [f(e, i) for i in o], label = 'f(o)')\n",
    "ax.plot([o_posta]*2, np.linspace(0,0.1,2), 'r--', label = 'volatilidad implicita')\n",
    "ax.set_xlabel('volatilidad')\n",
    "ax.set_ylabel('g(n)')\n",
    "#ax.set_xscale('log')\n",
    "ax.set_yscale('log')\n",
    "ax.legend()\n",
    "plt.grid()\n",
    "\n"
   ]
  },
  {
   "cell_type": "code",
   "execution_count": null,
   "metadata": {},
   "outputs": [],
   "source": [
    "#grafico en funcion de norm1\n",
    "fig = plt.figure(figsize=(8, 10), constrained_layout=True)\n",
    "gs = gridspec.GridSpec(2, 3, figure=fig)\n",
    "ax = fig.add_subplot(gs[0, :])\n",
    "aux = np.linspace(0.01, round(o_posta+0.005, 3), 101)\n",
    "ax.plot(aux, [norm_1(e, o=i) for i in aux], label = 'norm1(o)')\n",
    "ax.plot([o_posta]*2, np.linspace(0,1,2), 'r--', label = 'volatilidad implicita')\n",
    "ax.set_xlabel('volatilidad')\n",
    "ax.set_ylabel('norm1(o)')\n",
    "#ax.set_xscale('log')\n",
    "ax.set_yscale('log')\n",
    "ax.legend()\n",
    "plt.grid()\n"
   ]
  },
  {
   "cell_type": "code",
   "execution_count": null,
   "metadata": {},
   "outputs": [],
   "source": [
    "#grafico en funcion de norm2\n",
    "fig = plt.figure(figsize=(8, 10), constrained_layout=True)\n",
    "gs = gridspec.GridSpec(2, 3, figure=fig)\n",
    "ax = fig.add_subplot(gs[0, :])\n",
    "ax.plot(aux, [norm_2(e, o=i) for i in aux], label = 'norm2(o)')\n",
    "ax.plot([o_posta]*2, np.linspace(0,1,2), 'r--', label = 'volatilidad implicita')\n",
    "ax.set_xlabel('volatilidad')\n",
    "ax.set_ylabel('norm2(o)')\n",
    "#ax.set_xscale('log')\n",
    "ax.set_yscale('log')\n",
    "ax.legend()\n",
    "plt.grid()"
   ]
  },
  {
   "cell_type": "code",
   "execution_count": null,
   "metadata": {},
   "outputs": [],
   "source": []
  }
 ],
 "metadata": {
  "@webio": {
   "lastCommId": null,
   "lastKernelId": null
  },
  "kernelspec": {
   "display_name": "Python 3",
   "language": "python",
   "name": "python3"
  },
  "language_info": {
   "codemirror_mode": {
    "name": "ipython",
    "version": 3
   },
   "file_extension": ".py",
   "mimetype": "text/x-python",
   "name": "python",
   "nbconvert_exporter": "python",
   "pygments_lexer": "ipython3",
   "version": "3.6.9"
  }
 },
 "nbformat": 4,
 "nbformat_minor": 4
}
