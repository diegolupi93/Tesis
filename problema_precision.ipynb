{
 "cells": [
  {
   "cell_type": "code",
   "execution_count": 25,
   "metadata": {},
   "outputs": [],
   "source": [
    "import pickle\n",
    "import numpy as np\n",
    "import matplotlib.pyplot as plt\n",
    "import matplotlib.gridspec as gridspec\n",
    "from utils.black_scholes import raiz_ratio, d1_ratio, call_price_ratio\n",
    "from utils.biseccion import bisec\n",
    "import math\n",
    "import scipy.stats as st\n",
    "from utils.sample import Sample\n",
    "import pandas as pd\n",
    "\n",
    "def f(x):\n",
    "    return raiz_ratio(c, ratio, r, x, T)\n"
   ]
  },
  {
   "cell_type": "code",
   "execution_count": 26,
   "metadata": {},
   "outputs": [
    {
     "name": "stdout",
     "output_type": "stream",
     "text": [
      "my_muestra is done ...\n"
     ]
    }
   ],
   "source": [
    "## Para crear muestra\n",
    "\n",
    "obj = Sample(ratio=[0.4, 1.6], T=[0.2,1.1], r=[0.02, 0.1], o=[0.01, 1])\n",
    "obj.create('my_muestra', 10**5)"
   ]
  },
  {
   "cell_type": "code",
   "execution_count": 27,
   "metadata": {},
   "outputs": [],
   "source": [
    "#abro my muestra\n",
    "obj = Sample()\n",
    "x, y = obj.open('my_muestra')"
   ]
  },
  {
   "cell_type": "code",
   "execution_count": 28,
   "metadata": {},
   "outputs": [],
   "source": [
    "df = pd.DataFrame(x, columns=['c/k', 'ratio', 'r', 'T'])"
   ]
  },
  {
   "cell_type": "code",
   "execution_count": 29,
   "metadata": {},
   "outputs": [
    {
     "data": {
      "text/html": [
       "<div>\n",
       "<style scoped>\n",
       "    .dataframe tbody tr th:only-of-type {\n",
       "        vertical-align: middle;\n",
       "    }\n",
       "\n",
       "    .dataframe tbody tr th {\n",
       "        vertical-align: top;\n",
       "    }\n",
       "\n",
       "    .dataframe thead th {\n",
       "        text-align: right;\n",
       "    }\n",
       "</style>\n",
       "<table border=\"1\" class=\"dataframe\">\n",
       "  <thead>\n",
       "    <tr style=\"text-align: right;\">\n",
       "      <th></th>\n",
       "      <th>c/k</th>\n",
       "      <th>ratio</th>\n",
       "      <th>r</th>\n",
       "      <th>T</th>\n",
       "      <th>o</th>\n",
       "    </tr>\n",
       "  </thead>\n",
       "  <tbody>\n",
       "    <tr>\n",
       "      <th>0</th>\n",
       "      <td>7.602448e-01</td>\n",
       "      <td>1.579541</td>\n",
       "      <td>0.033574</td>\n",
       "      <td>0.934851</td>\n",
       "      <td>0.807247</td>\n",
       "    </tr>\n",
       "    <tr>\n",
       "      <th>1</th>\n",
       "      <td>2.970051e-01</td>\n",
       "      <td>1.259227</td>\n",
       "      <td>0.084983</td>\n",
       "      <td>0.449574</td>\n",
       "      <td>0.164316</td>\n",
       "    </tr>\n",
       "    <tr>\n",
       "      <th>2</th>\n",
       "      <td>2.932463e-01</td>\n",
       "      <td>1.275900</td>\n",
       "      <td>0.077232</td>\n",
       "      <td>0.226578</td>\n",
       "      <td>0.073695</td>\n",
       "    </tr>\n",
       "    <tr>\n",
       "      <th>3</th>\n",
       "      <td>3.138043e-02</td>\n",
       "      <td>0.786170</td>\n",
       "      <td>0.053695</td>\n",
       "      <td>0.515945</td>\n",
       "      <td>0.389865</td>\n",
       "    </tr>\n",
       "    <tr>\n",
       "      <th>4</th>\n",
       "      <td>1.863845e-02</td>\n",
       "      <td>0.669302</td>\n",
       "      <td>0.054979</td>\n",
       "      <td>0.449029</td>\n",
       "      <td>0.509719</td>\n",
       "    </tr>\n",
       "    <tr>\n",
       "      <th>...</th>\n",
       "      <td>...</td>\n",
       "      <td>...</td>\n",
       "      <td>...</td>\n",
       "      <td>...</td>\n",
       "      <td>...</td>\n",
       "    </tr>\n",
       "    <tr>\n",
       "      <th>99995</th>\n",
       "      <td>3.443691e-01</td>\n",
       "      <td>1.146897</td>\n",
       "      <td>0.049544</td>\n",
       "      <td>0.818303</td>\n",
       "      <td>0.640608</td>\n",
       "    </tr>\n",
       "    <tr>\n",
       "      <th>99996</th>\n",
       "      <td>4.728045e-02</td>\n",
       "      <td>0.786605</td>\n",
       "      <td>0.071432</td>\n",
       "      <td>0.757240</td>\n",
       "      <td>0.365977</td>\n",
       "    </tr>\n",
       "    <tr>\n",
       "      <th>99997</th>\n",
       "      <td>6.941807e-01</td>\n",
       "      <td>1.589146</td>\n",
       "      <td>0.027279</td>\n",
       "      <td>0.911860</td>\n",
       "      <td>0.613130</td>\n",
       "    </tr>\n",
       "    <tr>\n",
       "      <th>99998</th>\n",
       "      <td>2.612219e-01</td>\n",
       "      <td>1.240706</td>\n",
       "      <td>0.099283</td>\n",
       "      <td>0.208793</td>\n",
       "      <td>0.022805</td>\n",
       "    </tr>\n",
       "    <tr>\n",
       "      <th>99999</th>\n",
       "      <td>2.672469e-21</td>\n",
       "      <td>0.447441</td>\n",
       "      <td>0.097507</td>\n",
       "      <td>0.780897</td>\n",
       "      <td>0.093148</td>\n",
       "    </tr>\n",
       "  </tbody>\n",
       "</table>\n",
       "<p>100000 rows × 5 columns</p>\n",
       "</div>"
      ],
      "text/plain": [
       "                c/k     ratio         r         T         o\n",
       "0      7.602448e-01  1.579541  0.033574  0.934851  0.807247\n",
       "1      2.970051e-01  1.259227  0.084983  0.449574  0.164316\n",
       "2      2.932463e-01  1.275900  0.077232  0.226578  0.073695\n",
       "3      3.138043e-02  0.786170  0.053695  0.515945  0.389865\n",
       "4      1.863845e-02  0.669302  0.054979  0.449029  0.509719\n",
       "...             ...       ...       ...       ...       ...\n",
       "99995  3.443691e-01  1.146897  0.049544  0.818303  0.640608\n",
       "99996  4.728045e-02  0.786605  0.071432  0.757240  0.365977\n",
       "99997  6.941807e-01  1.589146  0.027279  0.911860  0.613130\n",
       "99998  2.612219e-01  1.240706  0.099283  0.208793  0.022805\n",
       "99999  2.672469e-21  0.447441  0.097507  0.780897  0.093148\n",
       "\n",
       "[100000 rows x 5 columns]"
      ]
     },
     "execution_count": 29,
     "metadata": {},
     "output_type": "execute_result"
    }
   ],
   "source": [
    "df['o'] = y\n",
    "df"
   ]
  },
  {
   "cell_type": "code",
   "execution_count": 30,
   "metadata": {},
   "outputs": [],
   "source": [
    "def my_f(e):\n",
    "    return raiz_ratio(e['c/k'], e['ratio'], e['r'], 0.01, e['T'])\n",
    "\n",
    "def norm_1(e, o=0.01):\n",
    "    return st.norm.cdf(d1_ratio(e['ratio'], e['r'], o, e['T']))\n",
    "\n",
    "def norm_2(e, o=0.01):\n",
    "    return st.norm.cdf(d1_ratio(e['ratio'], e['r'], o, e['T'])- o*math.sqrt(e['T']))"
   ]
  },
  {
   "cell_type": "code",
   "execution_count": 31,
   "metadata": {},
   "outputs": [],
   "source": [
    "def norm1p(e):\n",
    "    return st.norm.cdf(d1_ratio(e['ratio'], e['r'], e['o'], e['T']))\n",
    "\n",
    "\n",
    "def norm2p(e):\n",
    "    return st.norm.cdf(d1_ratio(e['ratio'], e['r'], e['o'], e['T'])- e['o']*math.sqrt(e['T']))"
   ]
  },
  {
   "cell_type": "code",
   "execution_count": 32,
   "metadata": {},
   "outputs": [],
   "source": [
    "#tarda tiempo, agregar norm 1 y norm 2\n",
    "df['f(0.01)'] = df.apply(my_f, axis=1)\n",
    "df['norm1'] = df.apply(norm_1, axis=1) #es la normal de la volatilidad == 0.01\n",
    "df['norm2'] = df.apply(norm_1, axis=1) #es la normal de la volatilidad == 0.01\n",
    "df['norm1p'] = df.apply(norm1p, axis=1) #es la normal de la volatilidad implícita\n",
    "df['norm2p'] = df.apply(norm2p, axis=1) #es la normal de la volatilidad implícita"
   ]
  },
  {
   "cell_type": "code",
   "execution_count": 33,
   "metadata": {},
   "outputs": [
    {
     "data": {
      "text/html": [
       "<div>\n",
       "<style scoped>\n",
       "    .dataframe tbody tr th:only-of-type {\n",
       "        vertical-align: middle;\n",
       "    }\n",
       "\n",
       "    .dataframe tbody tr th {\n",
       "        vertical-align: top;\n",
       "    }\n",
       "\n",
       "    .dataframe thead th {\n",
       "        text-align: right;\n",
       "    }\n",
       "</style>\n",
       "<table border=\"1\" class=\"dataframe\">\n",
       "  <thead>\n",
       "    <tr style=\"text-align: right;\">\n",
       "      <th></th>\n",
       "      <th>c/k</th>\n",
       "      <th>ratio</th>\n",
       "      <th>r</th>\n",
       "      <th>T</th>\n",
       "      <th>o</th>\n",
       "      <th>f(0.01)</th>\n",
       "      <th>norm1</th>\n",
       "      <th>norm2</th>\n",
       "      <th>norm1p</th>\n",
       "      <th>norm2p</th>\n",
       "    </tr>\n",
       "  </thead>\n",
       "  <tbody>\n",
       "    <tr>\n",
       "      <th>0</th>\n",
       "      <td>0.760245</td>\n",
       "      <td>1.579541</td>\n",
       "      <td>0.033574</td>\n",
       "      <td>0.934851</td>\n",
       "      <td>0.807247</td>\n",
       "      <td>-1.498039e-01</td>\n",
       "      <td>1.000000e+00</td>\n",
       "      <td>1.000000e+00</td>\n",
       "      <td>0.845222</td>\n",
       "      <td>0.593147</td>\n",
       "    </tr>\n",
       "    <tr>\n",
       "      <th>1</th>\n",
       "      <td>0.297005</td>\n",
       "      <td>1.259227</td>\n",
       "      <td>0.084983</td>\n",
       "      <td>0.449574</td>\n",
       "      <td>0.164316</td>\n",
       "      <td>-2.929126e-04</td>\n",
       "      <td>1.000000e+00</td>\n",
       "      <td>1.000000e+00</td>\n",
       "      <td>0.993684</td>\n",
       "      <td>0.991433</td>\n",
       "    </tr>\n",
       "    <tr>\n",
       "      <th>2</th>\n",
       "      <td>0.293246</td>\n",
       "      <td>1.275900</td>\n",
       "      <td>0.077232</td>\n",
       "      <td>0.226578</td>\n",
       "      <td>0.073695</td>\n",
       "      <td>-3.330669e-16</td>\n",
       "      <td>1.000000e+00</td>\n",
       "      <td>1.000000e+00</td>\n",
       "      <td>1.000000</td>\n",
       "      <td>1.000000</td>\n",
       "    </tr>\n",
       "    <tr>\n",
       "      <th>3</th>\n",
       "      <td>0.031380</td>\n",
       "      <td>0.786170</td>\n",
       "      <td>0.053695</td>\n",
       "      <td>0.515945</td>\n",
       "      <td>0.389865</td>\n",
       "      <td>-3.138043e-02</td>\n",
       "      <td>2.795564e-193</td>\n",
       "      <td>2.795564e-193</td>\n",
       "      <td>0.267576</td>\n",
       "      <td>0.184007</td>\n",
       "    </tr>\n",
       "    <tr>\n",
       "      <th>4</th>\n",
       "      <td>0.018638</td>\n",
       "      <td>0.669302</td>\n",
       "      <td>0.054979</td>\n",
       "      <td>0.449029</td>\n",
       "      <td>0.509719</td>\n",
       "      <td>-1.863845e-02</td>\n",
       "      <td>0.000000e+00</td>\n",
       "      <td>0.000000e+00</td>\n",
       "      <td>0.175543</td>\n",
       "      <td>0.101323</td>\n",
       "    </tr>\n",
       "  </tbody>\n",
       "</table>\n",
       "</div>"
      ],
      "text/plain": [
       "        c/k     ratio         r         T         o       f(0.01)  \\\n",
       "0  0.760245  1.579541  0.033574  0.934851  0.807247 -1.498039e-01   \n",
       "1  0.297005  1.259227  0.084983  0.449574  0.164316 -2.929126e-04   \n",
       "2  0.293246  1.275900  0.077232  0.226578  0.073695 -3.330669e-16   \n",
       "3  0.031380  0.786170  0.053695  0.515945  0.389865 -3.138043e-02   \n",
       "4  0.018638  0.669302  0.054979  0.449029  0.509719 -1.863845e-02   \n",
       "\n",
       "           norm1          norm2    norm1p    norm2p  \n",
       "0   1.000000e+00   1.000000e+00  0.845222  0.593147  \n",
       "1   1.000000e+00   1.000000e+00  0.993684  0.991433  \n",
       "2   1.000000e+00   1.000000e+00  1.000000  1.000000  \n",
       "3  2.795564e-193  2.795564e-193  0.267576  0.184007  \n",
       "4   0.000000e+00   0.000000e+00  0.175543  0.101323  "
      ]
     },
     "execution_count": 33,
     "metadata": {},
     "output_type": "execute_result"
    }
   ],
   "source": [
    "df.head(5)"
   ]
  },
  {
   "cell_type": "code",
   "execution_count": 34,
   "metadata": {},
   "outputs": [
    {
     "data": {
      "text/plain": [
       "52"
      ]
     },
     "execution_count": 34,
     "metadata": {},
     "output_type": "execute_result"
    }
   ],
   "source": [
    "#casos en los que no puedo aplicar el método de bisección\n",
    "casos_de_mandinga = df[df['f(0.01)'] > 0]\n",
    "len(df[((df['norm1'] == 1) & (df['norm2'] == 1)) |\n",
    "       ((df['norm1'] == 0) & (df['norm2'] == 0))])\n",
    "len(casos_de_mandinga)"
   ]
  },
  {
   "cell_type": "code",
   "execution_count": 35,
   "metadata": {},
   "outputs": [
    {
     "data": {
      "text/plain": [
       "(0.999999999999992, 0.9999999999999999)"
      ]
     },
     "execution_count": 35,
     "metadata": {},
     "output_type": "execute_result"
    }
   ],
   "source": [
    "# minimo y maximo de la normal calculada con la volatilidad implícita\n",
    "# muy cercanos a 1\n",
    "(casos_de_mandinga['norm1p'].min(), casos_de_mandinga['norm1p'].max()) "
   ]
  },
  {
   "cell_type": "code",
   "execution_count": 36,
   "metadata": {},
   "outputs": [
    {
     "name": "stdout",
     "output_type": "stream",
     "text": [
      "[0.01      0.02      0.03      0.04      0.05      0.06      0.0610801\n",
      " 0.07      0.08      0.09      0.1       0.11      0.12      0.13\n",
      " 0.14      0.15      0.16      0.17      0.18      0.19      0.2\n",
      " 0.21      0.22      0.23      0.24      0.25      0.26      0.27\n",
      " 0.28      0.29      0.3       0.31      0.32      0.33      0.34\n",
      " 0.35      0.36      0.37      0.38      0.39      0.4       0.41\n",
      " 0.42      0.43      0.44      0.45      0.46      0.47      0.48\n",
      " 0.49      0.5       0.51      0.52      0.53      0.54      0.55\n",
      " 0.56      0.57      0.58      0.59      0.6       0.61      0.62\n",
      " 0.63      0.64      0.65      0.66      0.67      0.68      0.69\n",
      " 0.7       0.71      0.72      0.73      0.74      0.75      0.76\n",
      " 0.77      0.78      0.79      0.8       0.81      0.82      0.83\n",
      " 0.84      0.85      0.86      0.87      0.88      0.89      0.9\n",
      " 0.91      0.92      0.93      0.94      0.95      0.96      0.97\n",
      " 0.98      0.99      1.       ]\n"
     ]
    }
   ],
   "source": [
    "#Caso en particular con ratio\n",
    "e = casos_de_mandinga.iloc[0]\n",
    "o_posta = e['o']\n",
    "\n",
    "def f(e, x):\n",
    "    return raiz_ratio(e['c/k'], e['ratio'], e['r'], x, e['T'])\n",
    "\n",
    "o = np.sort(np.append(np.linspace(0.01, 1, 100), np.array([o_posta])))\n",
    "print(o)\n"
   ]
  },
  {
   "cell_type": "code",
   "execution_count": 37,
   "metadata": {},
   "outputs": [
    {
     "data": {
      "image/png": "[encoded data removed]",
      "text/plain": [
       "<Figure size 576x720 with 1 Axes>"
      ]
     },
     "metadata": {
      "needs_background": "light"
     },
     "output_type": "display_data"
    }
   ],
   "source": [
    "# grafico en funcion de f\n",
    "fig = plt.figure(figsize=(8, 10), constrained_layout=True)\n",
    "gs = gridspec.GridSpec(2, 3, figure=fig)\n",
    "ax = fig.add_subplot(gs[0, :])\n",
    "ax.plot(o, [f(e, i) for i in o], label = 'f(o)')\n",
    "ax.plot([o_posta]*2, np.linspace(0,0.1,2), 'r--', label = 'volatilidad implicita')\n",
    "ax.set_xlabel('volatilidad')\n",
    "ax.set_ylabel('g(n)')\n",
    "#ax.set_xscale('log')\n",
    "ax.set_yscale('log')\n",
    "ax.legend()\n",
    "plt.grid()\n",
    "\n"
   ]
  },
  {
   "cell_type": "code",
   "execution_count": 38,
   "metadata": {},
   "outputs": [
    {
     "data": {
      "image/png": "[encoded data removed]",
      "text/plain": [
       "<Figure size 576x720 with 1 Axes>"
      ]
     },
     "metadata": {
      "needs_background": "light"
     },
     "output_type": "display_data"
    }
   ],
   "source": [
    "#grafico en funcion de norm1\n",
    "fig = plt.figure(figsize=(8, 10), constrained_layout=True)\n",
    "gs = gridspec.GridSpec(2, 3, figure=fig)\n",
    "ax = fig.add_subplot(gs[0, :])\n",
    "aux = np.linspace(0.01, round(o_posta+0.005, 3), 101)\n",
    "ax.plot(aux, [norm_1(e, o=i) for i in aux], label = 'norm1(o)')\n",
    "ax.plot([o_posta]*2, np.linspace(0,1,2), 'r--', label = 'volatilidad implicita')\n",
    "ax.set_xlabel('volatilidad')\n",
    "ax.set_ylabel('norm1(o)')\n",
    "#ax.set_xscale('log')\n",
    "ax.set_yscale('log')\n",
    "ax.legend()\n",
    "plt.grid()\n"
   ]
  },
  {
   "cell_type": "code",
   "execution_count": 39,
   "metadata": {},
   "outputs": [
    {
     "data": {
      "image/png": "[encoded data removed]",
      "text/plain": [
       "<Figure size 576x720 with 1 Axes>"
      ]
     },
     "metadata": {
      "needs_background": "light"
     },
     "output_type": "display_data"
    }
   ],
   "source": [
    "#grafico en funcion de norm2\n",
    "fig = plt.figure(figsize=(8, 10), constrained_layout=True)\n",
    "gs = gridspec.GridSpec(2, 3, figure=fig)\n",
    "ax = fig.add_subplot(gs[0, :])\n",
    "ax.plot(aux, [norm_2(e, o=i) for i in aux], label = 'norm2(o)')\n",
    "ax.plot([o_posta]*2, np.linspace(0,1,2), 'r--', label = 'volatilidad implicita')\n",
    "ax.set_xlabel('volatilidad')\n",
    "ax.set_ylabel('norm2(o)')\n",
    "#ax.set_xscale('log')\n",
    "ax.set_yscale('log')\n",
    "ax.legend()\n",
    "plt.grid()"
   ]
  },
  {
   "cell_type": "code",
   "execution_count": null,
   "metadata": {},
   "outputs": [],
   "source": []
  }
 ],
 "metadata": {
  "@webio": {
   "lastCommId": null,
   "lastKernelId": null
  },
  "kernelspec": {
   "display_name": "Python 3",
   "language": "python",
   "name": "python3"
  },
  "language_info": {
   "codemirror_mode": {
    "name": "ipython",
    "version": 3
   },
   "file_extension": ".py",
   "mimetype": "text/x-python",
   "name": "python",
   "nbconvert_exporter": "python",
   "pygments_lexer": "ipython3",
   "version": "3.6.9"
  }
 },
 "nbformat": 4,
 "nbformat_minor": 4
}
