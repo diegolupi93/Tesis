{
 "cells": [
  {
   "cell_type": "code",
   "execution_count": 1,
   "metadata": {},
   "outputs": [],
   "source": [
    "import pickle\n",
    "import numpy as np\n",
    "import matplotlib.pyplot as plt\n",
    "import matplotlib.gridspec as gridspec\n",
    "from utils.black_scholes import raiz_ratio, d1_ratio, call_price_ratio\n",
    "from utils.biseccion import bisec\n",
    "import math\n",
    "import scipy.stats as st\n",
    "from utils.sample import Sample\n",
    "import pandas as pd\n",
    "\n",
    "def f(x):\n",
    "    return raiz_ratio(c, ratio, r, x, T)\n"
   ]
  },
  {
   "cell_type": "code",
   "execution_count": 2,
   "metadata": {},
   "outputs": [
    {
     "name": "stdout",
     "output_type": "stream",
     "text": [
      "my_muestra is done ...\n"
     ]
    }
   ],
   "source": [
    "## Para crear muestra\n",
    "\n",
    "obj = Sample(ratio=[0.4, 1.6], T=[0.2,1.1], r=[0.02, 0.1], o=[0.01, 1])\n",
    "obj.create('my_muestra', 10**5)"
   ]
  },
  {
   "cell_type": "code",
   "execution_count": 3,
   "metadata": {},
   "outputs": [],
   "source": [
    "#abro my muestra\n",
    "obj = Sample()\n",
    "x, y = obj.open('my_muestra')"
   ]
  },
  {
   "cell_type": "code",
   "execution_count": 4,
   "metadata": {},
   "outputs": [],
   "source": [
    "df = pd.DataFrame(x, columns=['c/k', 'ratio', 'r', 'T'])"
   ]
  },
  {
   "cell_type": "code",
   "execution_count": 5,
   "metadata": {},
   "outputs": [
    {
     "data": {
      "text/html": [
       "<div>\n",
       "<style scoped>\n",
       "    .dataframe tbody tr th:only-of-type {\n",
       "        vertical-align: middle;\n",
       "    }\n",
       "\n",
       "    .dataframe tbody tr th {\n",
       "        vertical-align: top;\n",
       "    }\n",
       "\n",
       "    .dataframe thead th {\n",
       "        text-align: right;\n",
       "    }\n",
       "</style>\n",
       "<table border=\"1\" class=\"dataframe\">\n",
       "  <thead>\n",
       "    <tr style=\"text-align: right;\">\n",
       "      <th></th>\n",
       "      <th>c/k</th>\n",
       "      <th>ratio</th>\n",
       "      <th>r</th>\n",
       "      <th>T</th>\n",
       "      <th>o</th>\n",
       "    </tr>\n",
       "  </thead>\n",
       "  <tbody>\n",
       "    <tr>\n",
       "      <th>0</th>\n",
       "      <td>0.187607</td>\n",
       "      <td>1.092918</td>\n",
       "      <td>0.070158</td>\n",
       "      <td>0.391754</td>\n",
       "      <td>0.459644</td>\n",
       "    </tr>\n",
       "    <tr>\n",
       "      <th>1</th>\n",
       "      <td>0.137603</td>\n",
       "      <td>0.760031</td>\n",
       "      <td>0.037314</td>\n",
       "      <td>1.039573</td>\n",
       "      <td>0.655252</td>\n",
       "    </tr>\n",
       "    <tr>\n",
       "      <th>2</th>\n",
       "      <td>0.349611</td>\n",
       "      <td>1.156901</td>\n",
       "      <td>0.024582</td>\n",
       "      <td>0.736626</td>\n",
       "      <td>0.701870</td>\n",
       "    </tr>\n",
       "    <tr>\n",
       "      <th>3</th>\n",
       "      <td>0.201998</td>\n",
       "      <td>1.171010</td>\n",
       "      <td>0.034213</td>\n",
       "      <td>0.206515</td>\n",
       "      <td>0.434334</td>\n",
       "    </tr>\n",
       "    <tr>\n",
       "      <th>4</th>\n",
       "      <td>0.074703</td>\n",
       "      <td>0.885961</td>\n",
       "      <td>0.074948</td>\n",
       "      <td>1.001145</td>\n",
       "      <td>0.260764</td>\n",
       "    </tr>\n",
       "    <tr>\n",
       "      <th>...</th>\n",
       "      <td>...</td>\n",
       "      <td>...</td>\n",
       "      <td>...</td>\n",
       "      <td>...</td>\n",
       "      <td>...</td>\n",
       "    </tr>\n",
       "    <tr>\n",
       "      <th>99995</th>\n",
       "      <td>0.224694</td>\n",
       "      <td>1.166444</td>\n",
       "      <td>0.057646</td>\n",
       "      <td>1.033011</td>\n",
       "      <td>0.093902</td>\n",
       "    </tr>\n",
       "    <tr>\n",
       "      <th>99996</th>\n",
       "      <td>0.674388</td>\n",
       "      <td>1.541321</td>\n",
       "      <td>0.059796</td>\n",
       "      <td>1.064901</td>\n",
       "      <td>0.553968</td>\n",
       "    </tr>\n",
       "    <tr>\n",
       "      <th>99997</th>\n",
       "      <td>0.308772</td>\n",
       "      <td>1.082259</td>\n",
       "      <td>0.043642</td>\n",
       "      <td>0.889910</td>\n",
       "      <td>0.644566</td>\n",
       "    </tr>\n",
       "    <tr>\n",
       "      <th>99998</th>\n",
       "      <td>0.002703</td>\n",
       "      <td>0.619639</td>\n",
       "      <td>0.020641</td>\n",
       "      <td>0.496700</td>\n",
       "      <td>0.364788</td>\n",
       "    </tr>\n",
       "    <tr>\n",
       "      <th>99999</th>\n",
       "      <td>0.079417</td>\n",
       "      <td>0.640693</td>\n",
       "      <td>0.027090</td>\n",
       "      <td>0.497367</td>\n",
       "      <td>0.940759</td>\n",
       "    </tr>\n",
       "  </tbody>\n",
       "</table>\n",
       "<p>100000 rows × 5 columns</p>\n",
       "</div>"
      ],
      "text/plain": [
       "            c/k     ratio         r         T         o\n",
       "0      0.187607  1.092918  0.070158  0.391754  0.459644\n",
       "1      0.137603  0.760031  0.037314  1.039573  0.655252\n",
       "2      0.349611  1.156901  0.024582  0.736626  0.701870\n",
       "3      0.201998  1.171010  0.034213  0.206515  0.434334\n",
       "4      0.074703  0.885961  0.074948  1.001145  0.260764\n",
       "...         ...       ...       ...       ...       ...\n",
       "99995  0.224694  1.166444  0.057646  1.033011  0.093902\n",
       "99996  0.674388  1.541321  0.059796  1.064901  0.553968\n",
       "99997  0.308772  1.082259  0.043642  0.889910  0.644566\n",
       "99998  0.002703  0.619639  0.020641  0.496700  0.364788\n",
       "99999  0.079417  0.640693  0.027090  0.497367  0.940759\n",
       "\n",
       "[100000 rows x 5 columns]"
      ]
     },
     "execution_count": 5,
     "metadata": {},
     "output_type": "execute_result"
    }
   ],
   "source": [
    "df['o'] = y\n",
    "df"
   ]
  },
  {
   "cell_type": "code",
   "execution_count": 6,
   "metadata": {},
   "outputs": [],
   "source": [
    "def my_f(e):\n",
    "    return raiz_ratio(e['c/k'], e['ratio'], e['r'], 0.01, e['T'])\n",
    "\n",
    "def norm_1(e, o=0.01):\n",
    "    return st.norm.cdf(d1_ratio(e['ratio'], e['r'], o, e['T']))\n",
    "\n",
    "def norm_2(e, o=0.01):\n",
    "    return st.norm.cdf(d1_ratio(e['ratio'], e['r'], o, e['T'])- o*math.sqrt(e['T']))"
   ]
  },
  {
   "cell_type": "code",
   "execution_count": 7,
   "metadata": {},
   "outputs": [],
   "source": [
    "def norm1p(e):\n",
    "    return st.norm.cdf(d1_ratio(e['ratio'], e['r'], e['o'], e['T']))\n",
    "\n",
    "\n",
    "def norm2p(e):\n",
    "    return st.norm.cdf(d1_ratio(e['ratio'], e['r'], e['o'], e['T'])- e['o']*math.sqrt(e['T']))"
   ]
  },
  {
   "cell_type": "code",
   "execution_count": 8,
   "metadata": {},
   "outputs": [],
   "source": [
    "#tarda tiempo, agregar norm 1 y norm 2\n",
    "df['f(0.01)'] = df.apply(my_f, axis=1)\n",
    "df['norm1'] = df.apply(norm_1, axis=1) #es la normal de la volatilidad == 0.01\n",
    "df['norm2'] = df.apply(norm_1, axis=1) #es la normal de la volatilidad == 0.01\n",
    "df['norm1p'] = df.apply(norm1p, axis=1) #es la normal de la volatilidad implícita\n",
    "df['norm2p'] = df.apply(norm2p, axis=1) #es la normal de la volatilidad implícita"
   ]
  },
  {
   "cell_type": "code",
   "execution_count": 9,
   "metadata": {},
   "outputs": [
    {
     "data": {
      "text/html": [
       "<div>\n",
       "<style scoped>\n",
       "    .dataframe tbody tr th:only-of-type {\n",
       "        vertical-align: middle;\n",
       "    }\n",
       "\n",
       "    .dataframe tbody tr th {\n",
       "        vertical-align: top;\n",
       "    }\n",
       "\n",
       "    .dataframe thead th {\n",
       "        text-align: right;\n",
       "    }\n",
       "</style>\n",
       "<table border=\"1\" class=\"dataframe\">\n",
       "  <thead>\n",
       "    <tr style=\"text-align: right;\">\n",
       "      <th></th>\n",
       "      <th>c/k</th>\n",
       "      <th>ratio</th>\n",
       "      <th>r</th>\n",
       "      <th>T</th>\n",
       "      <th>o</th>\n",
       "      <th>f(0.01)</th>\n",
       "      <th>norm1</th>\n",
       "      <th>norm2</th>\n",
       "      <th>norm1p</th>\n",
       "      <th>norm2p</th>\n",
       "    </tr>\n",
       "  </thead>\n",
       "  <tbody>\n",
       "    <tr>\n",
       "      <th>0</th>\n",
       "      <td>0.187607</td>\n",
       "      <td>1.092918</td>\n",
       "      <td>0.070158</td>\n",
       "      <td>0.391754</td>\n",
       "      <td>0.459644</td>\n",
       "      <td>-0.067578</td>\n",
       "      <td>1.000000e+00</td>\n",
       "      <td>1.000000e+00</td>\n",
       "      <td>0.708231</td>\n",
       "      <td>0.602773</td>\n",
       "    </tr>\n",
       "    <tr>\n",
       "      <th>1</th>\n",
       "      <td>0.137603</td>\n",
       "      <td>0.760031</td>\n",
       "      <td>0.037314</td>\n",
       "      <td>1.039573</td>\n",
       "      <td>0.655252</td>\n",
       "      <td>-0.137603</td>\n",
       "      <td>2.177625e-118</td>\n",
       "      <td>2.177625e-118</td>\n",
       "      <td>0.492577</td>\n",
       "      <td>0.246136</td>\n",
       "    </tr>\n",
       "    <tr>\n",
       "      <th>2</th>\n",
       "      <td>0.349611</td>\n",
       "      <td>1.156901</td>\n",
       "      <td>0.024582</td>\n",
       "      <td>0.736626</td>\n",
       "      <td>0.701870</td>\n",
       "      <td>-0.174766</td>\n",
       "      <td>1.000000e+00</td>\n",
       "      <td>1.000000e+00</td>\n",
       "      <td>0.716745</td>\n",
       "      <td>0.488354</td>\n",
       "    </tr>\n",
       "    <tr>\n",
       "      <th>3</th>\n",
       "      <td>0.201998</td>\n",
       "      <td>1.171010</td>\n",
       "      <td>0.034213</td>\n",
       "      <td>0.206515</td>\n",
       "      <td>0.434334</td>\n",
       "      <td>-0.023948</td>\n",
       "      <td>1.000000e+00</td>\n",
       "      <td>1.000000e+00</td>\n",
       "      <td>0.824926</td>\n",
       "      <td>0.769415</td>\n",
       "    </tr>\n",
       "    <tr>\n",
       "      <th>4</th>\n",
       "      <td>0.074703</td>\n",
       "      <td>0.885961</td>\n",
       "      <td>0.074948</td>\n",
       "      <td>1.001145</td>\n",
       "      <td>0.260764</td>\n",
       "      <td>-0.074703</td>\n",
       "      <td>2.140932e-06</td>\n",
       "      <td>2.140932e-06</td>\n",
       "      <td>0.481642</td>\n",
       "      <td>0.379442</td>\n",
       "    </tr>\n",
       "  </tbody>\n",
       "</table>\n",
       "</div>"
      ],
      "text/plain": [
       "        c/k     ratio         r         T         o   f(0.01)          norm1  \\\n",
       "0  0.187607  1.092918  0.070158  0.391754  0.459644 -0.067578   1.000000e+00   \n",
       "1  0.137603  0.760031  0.037314  1.039573  0.655252 -0.137603  2.177625e-118   \n",
       "2  0.349611  1.156901  0.024582  0.736626  0.701870 -0.174766   1.000000e+00   \n",
       "3  0.201998  1.171010  0.034213  0.206515  0.434334 -0.023948   1.000000e+00   \n",
       "4  0.074703  0.885961  0.074948  1.001145  0.260764 -0.074703   2.140932e-06   \n",
       "\n",
       "           norm2    norm1p    norm2p  \n",
       "0   1.000000e+00  0.708231  0.602773  \n",
       "1  2.177625e-118  0.492577  0.246136  \n",
       "2   1.000000e+00  0.716745  0.488354  \n",
       "3   1.000000e+00  0.824926  0.769415  \n",
       "4   2.140932e-06  0.481642  0.379442  "
      ]
     },
     "execution_count": 9,
     "metadata": {},
     "output_type": "execute_result"
    }
   ],
   "source": [
    "df.head(5)"
   ]
  },
  {
   "cell_type": "code",
   "execution_count": 10,
   "metadata": {},
   "outputs": [
    {
     "data": {
      "text/plain": [
       "62"
      ]
     },
     "execution_count": 10,
     "metadata": {},
     "output_type": "execute_result"
    }
   ],
   "source": [
    "#casos en los que no puedo aplicar el método de bisección\n",
    "casos_de_mandinga = df[df['f(0.01)'] > 0]\n",
    "len(df[((df['norm1'] == 1) & (df['norm2'] == 1)) |\n",
    "       ((df['norm1'] == 0) & (df['norm2'] == 0))])\n",
    "len(casos_de_mandinga)"
   ]
  },
  {
   "cell_type": "code",
   "execution_count": 11,
   "metadata": {},
   "outputs": [
    {
     "data": {
      "text/plain": [
       "(0.9999999999999889, 0.9999999999999999)"
      ]
     },
     "execution_count": 11,
     "metadata": {},
     "output_type": "execute_result"
    }
   ],
   "source": [
    "# minimo y maximo de la normal calculada con la volatilidad implícita\n",
    "# muy cercanos a 1\n",
    "(casos_de_mandinga['norm1p'].min(), casos_de_mandinga['norm1p'].max()) "
   ]
  },
  {
   "cell_type": "code",
   "execution_count": 12,
   "metadata": {},
   "outputs": [
    {
     "name": "stdout",
     "output_type": "stream",
     "text": [
      "[0.01       0.02       0.03       0.04       0.05       0.06\n",
      " 0.07       0.07502441 0.08       0.09       0.1        0.11\n",
      " 0.12       0.13       0.14       0.15       0.16       0.17\n",
      " 0.18       0.19       0.2        0.21       0.22       0.23\n",
      " 0.24       0.25       0.26       0.27       0.28       0.29\n",
      " 0.3        0.31       0.32       0.33       0.34       0.35\n",
      " 0.36       0.37       0.38       0.39       0.4        0.41\n",
      " 0.42       0.43       0.44       0.45       0.46       0.47\n",
      " 0.48       0.49       0.5        0.51       0.52       0.53\n",
      " 0.54       0.55       0.56       0.57       0.58       0.59\n",
      " 0.6        0.61       0.62       0.63       0.64       0.65\n",
      " 0.66       0.67       0.68       0.69       0.7        0.71\n",
      " 0.72       0.73       0.74       0.75       0.76       0.77\n",
      " 0.78       0.79       0.8        0.81       0.82       0.83\n",
      " 0.84       0.85       0.86       0.87       0.88       0.89\n",
      " 0.9        0.91       0.92       0.93       0.94       0.95\n",
      " 0.96       0.97       0.98       0.99       1.        ]\n"
     ]
    }
   ],
   "source": [
    "#Caso en particular con ratio\n",
    "e = casos_de_mandinga.iloc[0]\n",
    "o_posta = e['o']\n",
    "\n",
    "def f(e, x):\n",
    "    return raiz_ratio(e['c/k'], e['ratio'], e['r'], x, e['T'])\n",
    "\n",
    "o = np.sort(np.append(np.linspace(0.01, 1, 100), np.array([o_posta])))\n",
    "print(o)\n"
   ]
  },
  {
   "cell_type": "code",
   "execution_count": 17,
   "metadata": {},
   "outputs": [
    {
     "data": {
      "image/png": "[encoded data removed]",
      "text/plain": [
       "<Figure size 576x720 with 1 Axes>"
      ]
     },
     "metadata": {
      "needs_background": "light"
     },
     "output_type": "display_data"
    }
   ],
   "source": [
    "# grafico en funcion de f\n",
    "fig = plt.figure(figsize=(8, 10), constrained_layout=True)\n",
    "gs = gridspec.GridSpec(2, 3, figure=fig)\n",
    "ax = fig.add_subplot(gs[0, :])\n",
    "ax.plot(o, [f(e, i) for i in o], label = 'g(o)')\n",
    "ax.plot([o_posta]*2, np.linspace(0,0.1,2), 'r--', label = 'volatilidad implicita')\n",
    "ax.set_xlabel('volatilidad')\n",
    "ax.set_ylabel('g(o)')\n",
    "#ax.set_xscale('log')\n",
    "ax.set_yscale('log')\n",
    "ax.legend()\n",
    "plt.grid()\n",
    "\n"
   ]
  },
  {
   "cell_type": "code",
   "execution_count": 14,
   "metadata": {},
   "outputs": [
    {
     "data": {
      "image/png": "[encoded data removed]",
      "text/plain": [
       "<Figure size 576x720 with 4 Axes>"
      ]
     },
     "metadata": {
      "needs_background": "light"
     },
     "output_type": "display_data"
    }
   ],
   "source": [
    "#grafico en funcion de norm1\n",
    "plt.rcParams.update({'font.size': 14})\n",
    "fig = plt.figure(figsize=(8, 10), constrained_layout=True)\n",
    "gs = gridspec.GridSpec(2, 3, figure=fig)\n",
    "ax = fig.add_subplot(gs[0, :])\n",
    "aux = np.linspace(0.01, 1, 100)\n",
    "ax.plot(aux, [norm_1(e, o=i) for i in aux], label = 'norm1(o)' )\n",
    "ax.plot([o_posta]*2, np.linspace(0,1,2), 'r--', label = 'volatilidad implicita')\n",
    "ax.set_xlabel('volatilidad', fontsize=14)\n",
    "ax.set_ylabel('norm1(o)', fontsize=14)\n",
    "#ax.set_xscale('log')\n",
    "ax.set_yscale('log')\n",
    "ax.legend()\n",
    "plt.grid()\n",
    "plt.savefig('norm1')"
   ]
  },
  {
   "cell_type": "code",
   "execution_count": 15,
   "metadata": {},
   "outputs": [
    {
     "data": {
      "image/png": "[encoded data removed]",
      "text/plain": [
       "<Figure size 576x720 with 4 Axes>"
      ]
     },
     "metadata": {
      "needs_background": "light"
     },
     "output_type": "display_data"
    }
   ],
   "source": [
    "#grafico en funcion de norm1\n",
    "fig = plt.figure(figsize=(8, 10), constrained_layout=True)\n",
    "gs = gridspec.GridSpec(2, 3, figure=fig)\n",
    "ax = fig.add_subplot(gs[0, :])\n",
    "aux = np.linspace(0.01, round(o_posta+0.005, 3), 101)\n",
    "ax.plot(aux, [norm_1(e, o=i) for i in aux], label = 'norm1(o)')\n",
    "ax.plot([o_posta]*2, np.linspace(0,1,2), 'r--', label = 'volatilidad implicita')\n",
    "ax.set_xlabel('volatilidad', )\n",
    "ax.set_ylabel('norm1(o)')\n",
    "#ax.set_xscale('log')\n",
    "ax.set_yscale('log')\n",
    "ax.legend()\n",
    "plt.grid()\n",
    "plt.savefig('norm1_c')"
   ]
  },
  {
   "cell_type": "code",
   "execution_count": 16,
   "metadata": {},
   "outputs": [
    {
     "data": {
      "image/png": "[encoded data removed]",
      "text/plain": [
       "<Figure size 576x720 with 1 Axes>"
      ]
     },
     "metadata": {
      "needs_background": "light"
     },
     "output_type": "display_data"
    }
   ],
   "source": [
    "#grafico en funcion de norm2\n",
    "fig = plt.figure(figsize=(8, 10), constrained_layout=True)\n",
    "gs = gridspec.GridSpec(2, 3, figure=fig)\n",
    "ax = fig.add_subplot(gs[0, :])\n",
    "ax.plot(aux, [norm_2(e, o=i) for i in aux], label = 'norm2(o)')\n",
    "ax.plot([o_posta]*2, np.linspace(0,1,2), 'r--', label = 'volatilidad implicita')\n",
    "ax.set_xlabel('volatilidad')\n",
    "ax.set_ylabel('norm2(o)')\n",
    "#ax.set_xscale('log')\n",
    "ax.set_yscale('log')\n",
    "ax.legend()\n",
    "plt.grid()"
   ]
  },
  {
   "cell_type": "code",
   "execution_count": null,
   "metadata": {},
   "outputs": [],
   "source": []
  }
 ],
 "metadata": {
  "@webio": {
   "lastCommId": null,
   "lastKernelId": null
  },
  "kernelspec": {
   "display_name": "Python 3",
   "language": "python",
   "name": "python3"
  },
  "language_info": {
   "codemirror_mode": {
    "name": "ipython",
    "version": 3
   },
   "file_extension": ".py",
   "mimetype": "text/x-python",
   "name": "python",
   "nbconvert_exporter": "python",
   "pygments_lexer": "ipython3",
   "version": "3.6.9"
  }
 },
 "nbformat": 4,
 "nbformat_minor": 4
}
