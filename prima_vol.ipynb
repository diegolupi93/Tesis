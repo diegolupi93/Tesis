{
 "cells": [
  {
   "cell_type": "code",
   "execution_count": null,
   "metadata": {},
   "outputs": [],
   "source": [
    "import numpy as np\n",
    "import math\n",
    "import scipy.stats as st\n",
    "import matplotlib.pyplot as plt\n",
    "from utils.black_scholes import call_price_ratio\n"
   ]
  },
  {
   "cell_type": "code",
   "execution_count": null,
   "metadata": {},
   "outputs": [],
   "source": [
    "ratio = 1\n",
    "T = 0.6\n",
    "r = 0.06\n",
    "o = 0.5"
   ]
  },
  {
   "cell_type": "code",
   "execution_count": null,
   "metadata": {},
   "outputs": [],
   "source": [
    "def my_call(ratio=ratio, r=r, o=o, T=T):\n",
    "    return call_price_ratio(ratio, r, o, T)\n"
   ]
  },
  {
   "cell_type": "code",
   "execution_count": null,
   "metadata": {},
   "outputs": [],
   "source": [
    "# Volatilidad vs Ratio\n",
    "v = np.linspace(0.4, 1.6, 5)\n",
    "f = lambda x: my_call(o=x, ratio=v[0])\n",
    "sdvg_1 = np.vectorize(f)\n",
    "\n",
    "f = lambda x: my_call(o=x, ratio=v[1])\n",
    "sdvg_2 = np.vectorize(f)\n",
    "\n",
    "f = lambda x: my_call(o=x, ratio=v[2])\n",
    "sdvg_3 = np.vectorize(f)\n",
    "\n",
    "f = lambda x: my_call(o=x, ratio=v[3])\n",
    "sdvg_4 = np.vectorize(f)\n",
    "\n",
    "f = lambda x: my_call(o=x, ratio=v[4])\n",
    "sdvg_5 = np.vectorize(f)\n",
    "\n"
   ]
  },
  {
   "cell_type": "code",
   "execution_count": null,
   "metadata": {},
   "outputs": [],
   "source": [
    "fig, ax, = plt.subplots(figsize=(15,10))\n",
    "volatilidad = np.linspace(0.01, 1, 1000)\n",
    "\n",
    "#ax.plot(history_clr.history['loss'], 'b', label = 'implied volatility')\n",
    "ax.plot(volatilidad, sdvg_1(volatilidad),'m',label='ratio: {}, r: 0.06, T: 0.6'.format(v[0]))\n",
    "######################################################\n",
    "ax.plot(volatilidad, sdvg_2(volatilidad),'k',label='ratio: {}, r: 0.06, T: 0.6'.format(v[1]))\n",
    "######################################################\n",
    "ax.plot(volatilidad, sdvg_3(volatilidad),'b',label='ratio: {}, r: 0.06, T: 0.6'.format(v[2]))\n",
    "#########################################################\n",
    "ax.plot(volatilidad, sdvg_4(volatilidad),'r',label='ratio: {}, r: 0.06, T: 0.6'.format(v[3]))\n",
    "\n",
    "ax.plot(volatilidad, sdvg_5(volatilidad),'y',label='ratio: {}, r: 0.06, T: 0.6'.format(v[4]))\n",
    "ax.legend()\n",
    "plt.legend(fontsize=14)\n",
    "plt.title('ratio VS precio call')\n",
    "plt.xticks(fontsize=14)\n",
    "plt.yticks(fontsize=14)\n",
    "plt.xlabel(\"volatilidad\", fontsize=18)\n",
    "plt.ylabel(\"precio call\", fontsize=18)\n",
    "plt.grid()\n",
    "plt.savefig('ratio_v_call',dpi=300, bbox_inches='tight')\n",
    "plt.show()"
   ]
  },
  {
   "cell_type": "code",
   "execution_count": null,
   "metadata": {},
   "outputs": [],
   "source": [
    "# Volatilidad vs interes\n",
    "v = np.linspace(0.02, 0.1, 5)\n",
    "f = lambda x: my_call(o=x, r=v[0])\n",
    "sdvg_1 = np.vectorize(f)\n",
    "\n",
    "f = lambda x: my_call(o=x, r=v[1])\n",
    "sdvg_2 = np.vectorize(f)\n",
    "\n",
    "f = lambda x: my_call(o=x, r=v[2])\n",
    "sdvg_3 = np.vectorize(f)\n",
    "\n",
    "f = lambda x: my_call(o=x, r=v[3])\n",
    "sdvg_4 = np.vectorize(f)\n",
    "\n",
    "f = lambda x: my_call(o=x, r=v[4])\n",
    "sdvg_5 = np.vectorize(f)\n"
   ]
  },
  {
   "cell_type": "code",
   "execution_count": null,
   "metadata": {},
   "outputs": [],
   "source": [
    "fig, ax, = plt.subplots(figsize=(15,10))\n",
    "volatilidad = np.linspace(0.02, 1, 1000)\n",
    "\n",
    "#ax.plot(history_clr.history['loss'], 'b', label = 'implied volatility')\n",
    "ax.plot(volatilidad, sdvg_1(volatilidad),'m',label='ratio: 1, r: {}, T: 0.6'.format(v[0]))\n",
    "######################################################\n",
    "ax.plot(volatilidad, sdvg_2(volatilidad),'k',label='ratio: 1, r: {}, T: 0.6'.format(v[1]))\n",
    "######################################################\n",
    "ax.plot(volatilidad, sdvg_3(volatilidad),'b',label='ratio: 1, r: {}, T: 0.6'.format(v[2]))\n",
    "#########################################################\n",
    "ax.plot(volatilidad, sdvg_4(volatilidad),'r',label='ratio: 1, r: {}, T: 0.6'.format(v[3]))\n",
    "\n",
    "ax.plot(volatilidad, sdvg_5(volatilidad),'y',label='ratio: 1, r: {}, T: 0.6'.format(v[4]))\n",
    "ax.legend()\n",
    "plt.legend(fontsize=14)\n",
    "plt.title('interes VS precio call')\n",
    "plt.xticks(fontsize=14)\n",
    "plt.yticks(fontsize=14)\n",
    "plt.xlabel(\"volatilidad\", fontsize=18)\n",
    "plt.ylabel(\"precio call\", fontsize=18)\n",
    "plt.grid()\n",
    "plt.savefig('interes_v_call',dpi=300, bbox_inches='tight')\n",
    "plt.show()"
   ]
  },
  {
   "cell_type": "code",
   "execution_count": null,
   "metadata": {},
   "outputs": [],
   "source": [
    "#Volatilidad vs tiempo de madure<\n",
    "v = np.linspace(0.2, 1.1, 5)\n",
    "f = lambda x: my_call(o=x, T=v[0])\n",
    "sdvg_1 = np.vectorize(f)\n",
    "\n",
    "f = lambda x: my_call(o=x, T=v[1])\n",
    "sdvg_2 = np.vectorize(f)\n",
    "\n",
    "f = lambda x: my_call(o=x, T=v[2])\n",
    "sdvg_3 = np.vectorize(f)\n",
    "\n",
    "f = lambda x: my_call(o=x, T=v[3])\n",
    "sdvg_4 = np.vectorize(f)\n",
    "\n",
    "f = lambda x: my_call(o=x, T=v[4])\n",
    "sdvg_5 = np.vectorize(f)"
   ]
  },
  {
   "cell_type": "code",
   "execution_count": null,
   "metadata": {},
   "outputs": [],
   "source": [
    "fig, ax, = plt.subplots(figsize=(15,10))\n",
    "volatilidad = np.linspace(0.02, 1, 1000)\n",
    "\n",
    "#ax.plot(history_clr.history['loss'], 'b', label = 'implied volatility')\n",
    "ax.plot(volatilidad, sdvg_1(volatilidad),'m',label='ratio: 1, r: 0.06, T: {}'.format(v[0]))\n",
    "######################################################\n",
    "ax.plot(volatilidad, sdvg_2(volatilidad),'k',label='ratio: 1, r: 0.06, T: {}'.format(v[1]))\n",
    "######################################################\n",
    "ax.plot(volatilidad, sdvg_3(volatilidad),'b',label='ratio: 1, r: 0.06, T: {}'.format(v[2]))\n",
    "#########################################################\n",
    "ax.plot(volatilidad, sdvg_4(volatilidad),'r',label='ratio: 1, r: 0.06, T: {}'.format(v[3]))\n",
    "\n",
    "ax.plot(volatilidad, sdvg_5(volatilidad),'y',label='ratio: 1, r: 0.06, T: {}'.format(v[4]))\n",
    "ax.legend()\n",
    "plt.legend(fontsize=14)\n",
    "plt.title('T VS precio call')\n",
    "plt.xticks(fontsize=14)\n",
    "plt.yticks(fontsize=14)\n",
    "plt.xlabel(\"volatilidad\", fontsize=18)\n",
    "plt.ylabel(\"precio call\", fontsize=18)\n",
    "plt.grid()\n",
    "plt.savefig('T_v_call',dpi=300, bbox_inches='tight')\n",
    "plt.show()"
   ]
  },
  {
   "cell_type": "code",
   "execution_count": null,
   "metadata": {},
   "outputs": [],
   "source": []
  }
 ],
 "metadata": {
  "kernelspec": {
   "display_name": "Python 3",
   "language": "python",
   "name": "python3"
  },
  "language_info": {
   "codemirror_mode": {
    "name": "ipython",
    "version": 3
   },
   "file_extension": ".py",
   "mimetype": "text/x-python",
   "name": "python",
   "nbconvert_exporter": "python",
   "pygments_lexer": "ipython3",
   "version": "3.6.9"
  }
 },
 "nbformat": 4,
 "nbformat_minor": 4
}
