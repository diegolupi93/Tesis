{
 "cells": [
  {
   "cell_type": "code",
   "execution_count": null,
   "metadata": {},
   "outputs": [],
   "source": [
    "import numpy as np\n",
    "import math\n",
    "import scipy.stats as st\n",
    "import matplotlib.pyplot as plt\n",
    "from utils.black_scholes import call_price_ratio\n",
    "import pandas as pd"
   ]
  },
  {
   "cell_type": "code",
   "execution_count": null,
   "metadata": {},
   "outputs": [],
   "source": [
    "ratio = 1\n",
    "T = 0.6\n",
    "r = 0.06\n",
    "o = 0.5"
   ]
  },
  {
   "cell_type": "code",
   "execution_count": null,
   "metadata": {},
   "outputs": [],
   "source": [
    "def my_call(ratio=ratio, r=r, o=o, T=T):\n",
    "    return call_price_ratio(ratio, r, o, T)\n"
   ]
  },
  {
   "cell_type": "code",
   "execution_count": null,
   "metadata": {},
   "outputs": [],
   "source": [
    "# Volatilidad vs Ratio\n",
    "v = np.linspace(0.4, 1.6, 5)\n",
    "f = lambda x: my_call(o=x, ratio=v[0])\n",
    "sdvg_1 = np.vectorize(f)\n",
    "\n",
    "f = lambda x: my_call(o=x, ratio=v[1])\n",
    "sdvg_2 = np.vectorize(f)\n",
    "\n",
    "f = lambda x: my_call(o=x, ratio=v[2])\n",
    "sdvg_3 = np.vectorize(f)\n",
    "\n",
    "f = lambda x: my_call(o=x, ratio=v[3])\n",
    "sdvg_4 = np.vectorize(f)\n",
    "\n",
    "f = lambda x: my_call(o=x, ratio=v[4])\n",
    "sdvg_5 = np.vectorize(f)\n",
    "\n"
   ]
  },
  {
   "cell_type": "code",
   "execution_count": null,
   "metadata": {},
   "outputs": [],
   "source": [
    "fig, ax, = plt.subplots(figsize=(15,10))\n",
    "volatilidad = np.linspace(0.01, 1, 1000)\n",
    "\n",
    "#ax.plot(history_clr.history['loss'], 'b', label = 'implied volatility')\n",
    "ax.plot(volatilidad, sdvg_1(volatilidad),'m',label='ratio: {}, r: 0.06, T: 0.6'.format(v[0]))\n",
    "######################################################\n",
    "ax.plot(volatilidad, sdvg_2(volatilidad),'k',label='ratio: {}, r: 0.06, T: 0.6'.format(v[1]))\n",
    "######################################################\n",
    "ax.plot(volatilidad, sdvg_3(volatilidad),'b',label='ratio: {}, r: 0.06, T: 0.6'.format(v[2]))\n",
    "#########################################################\n",
    "ax.plot(volatilidad, sdvg_4(volatilidad),'r',label='ratio: {}, r: 0.06, T: 0.6'.format(v[3]))\n",
    "\n",
    "ax.plot(volatilidad, sdvg_5(volatilidad),'y',label='ratio: {}, r: 0.06, T: 0.6'.format(v[4]))\n",
    "ax.legend()\n",
    "plt.legend(fontsize=14)\n",
    "plt.title('ratio VS precio call')\n",
    "plt.xticks(fontsize=14)\n",
    "plt.yticks(fontsize=14)\n",
    "plt.xlabel(\"volatilidad\", fontsize=18)\n",
    "plt.ylabel(\"precio call\", fontsize=18)\n",
    "plt.grid()\n",
    "plt.savefig('ratio_v_call',dpi=300, bbox_inches='tight')\n",
    "plt.show()"
   ]
  },
  {
   "cell_type": "code",
   "execution_count": null,
   "metadata": {},
   "outputs": [],
   "source": [
    "# Volatilidad vs interes\n",
    "v = np.linspace(0.02, 0.1, 5)\n",
    "f = lambda x: my_call(o=x, r=v[0])\n",
    "sdvg_1 = np.vectorize(f)\n",
    "\n",
    "f = lambda x: my_call(o=x, r=v[1])\n",
    "sdvg_2 = np.vectorize(f)\n",
    "\n",
    "f = lambda x: my_call(o=x, r=v[2])\n",
    "sdvg_3 = np.vectorize(f)\n",
    "\n",
    "f = lambda x: my_call(o=x, r=v[3])\n",
    "sdvg_4 = np.vectorize(f)\n",
    "\n",
    "f = lambda x: my_call(o=x, r=v[4])\n",
    "sdvg_5 = np.vectorize(f)\n"
   ]
  },
  {
   "cell_type": "code",
   "execution_count": null,
   "metadata": {},
   "outputs": [],
   "source": [
    "fig, ax, = plt.subplots(figsize=(15,10))\n",
    "volatilidad = np.linspace(0.02, 1, 1000)\n",
    "\n",
    "#ax.plot(history_clr.history['loss'], 'b', label = 'implied volatility')\n",
    "ax.plot(volatilidad, sdvg_1(volatilidad),'m',label='ratio: 1, r: {}, T: 0.6'.format(v[0]))\n",
    "######################################################\n",
    "ax.plot(volatilidad, sdvg_2(volatilidad),'k',label='ratio: 1, r: {}, T: 0.6'.format(v[1]))\n",
    "######################################################\n",
    "ax.plot(volatilidad, sdvg_3(volatilidad),'b',label='ratio: 1, r: {}, T: 0.6'.format(v[2]))\n",
    "#########################################################\n",
    "ax.plot(volatilidad, sdvg_4(volatilidad),'r',label='ratio: 1, r: {}, T: 0.6'.format(v[3]))\n",
    "\n",
    "ax.plot(volatilidad, sdvg_5(volatilidad),'y',label='ratio: 1, r: {}, T: 0.6'.format(v[4]))\n",
    "ax.legend()\n",
    "plt.legend(fontsize=14)\n",
    "plt.title('interes VS precio call')\n",
    "plt.xticks(fontsize=14)\n",
    "plt.yticks(fontsize=14)\n",
    "plt.xlabel(\"volatilidad\", fontsize=18)\n",
    "plt.ylabel(\"precio call\", fontsize=18)\n",
    "plt.grid()\n",
    "plt.savefig('interes_v_call',dpi=300, bbox_inches='tight')\n",
    "plt.show()"
   ]
  },
  {
   "cell_type": "code",
   "execution_count": null,
   "metadata": {},
   "outputs": [],
   "source": [
    "#Volatilidad vs tiempo de madurez\n",
    "v = np.linspace(0.2, 1.1, 5)\n",
    "f = lambda x: my_call(o=x, T=v[0])\n",
    "sdvg_1 = np.vectorize(f)\n",
    "\n",
    "f = lambda x: my_call(o=x, T=v[1])\n",
    "sdvg_2 = np.vectorize(f)\n",
    "\n",
    "f = lambda x: my_call(o=x, T=v[2])\n",
    "sdvg_3 = np.vectorize(f)\n",
    "\n",
    "f = lambda x: my_call(o=x, T=v[3])\n",
    "sdvg_4 = np.vectorize(f)\n",
    "\n",
    "f = lambda x: my_call(o=x, T=v[4])\n",
    "sdvg_5 = np.vectorize(f)"
   ]
  },
  {
   "cell_type": "code",
   "execution_count": null,
   "metadata": {},
   "outputs": [],
   "source": [
    "fig, ax, = plt.subplots(figsize=(15,10))\n",
    "volatilidad = np.linspace(0.02, 1, 1000)\n",
    "\n",
    "\n",
    "ax.plot(volatilidad, sdvg_1(volatilidad),'m',label='ratio: 1, r: 0.06, T: {}'.format(v[0]))\n",
    "######################################################\n",
    "ax.plot(volatilidad, sdvg_2(volatilidad),'k',label='ratio: 1, r: 0.06, T: {}'.format(v[1]))\n",
    "######################################################\n",
    "ax.plot(volatilidad, sdvg_3(volatilidad),'b',label='ratio: 1, r: 0.06, T: {}'.format(v[2]))\n",
    "#########################################################\n",
    "ax.plot(volatilidad, sdvg_4(volatilidad),'r',label='ratio: 1, r: 0.06, T: {}'.format(v[3]))\n",
    "\n",
    "ax.plot(volatilidad, sdvg_5(volatilidad),'y',label='ratio: 1, r: 0.06, T: {}'.format(v[4]))\n",
    "ax.legend()\n",
    "plt.legend(fontsize=14)\n",
    "plt.title('T VS precio call')\n",
    "plt.xticks(fontsize=14)\n",
    "plt.yticks(fontsize=14)\n",
    "plt.xlabel(\"volatilidad\", fontsize=18)\n",
    "plt.ylabel(\"precio call\", fontsize=18)\n",
    "plt.grid()\n",
    "plt.savefig('T_v_call',dpi=300, bbox_inches='tight')\n",
    "plt.show()"
   ]
  },
  {
   "cell_type": "markdown",
   "metadata": {},
   "source": [
    "Se puede observar que el ratio es el que menos influye en el precio de call si variamos la volatilidad, especialmente en OTM, practicamente hasta en volatilidades de 0.2 no sufre cambios el precio de la call, y en segundo termino el la tasa de interes(En nuestra muestra). Lo extraño es que las aproximaciones con mas error estan en ITM cuando $\\Phi_1(o)$ y $\\Phi_2(o)$ son cercanas a 0 "
   ]
  },
  {
   "cell_type": "code",
   "execution_count": null,
   "metadata": {},
   "outputs": [],
   "source": [
    "SUB = str.maketrans(\"0123456789\", \"₀₁₂₃₄₅₆₇₈₉\")\n",
    "\n",
    "fi_1 = '\\u03A61'.translate(SUB)+'(o)'\n",
    "fi_2 = '\\u03A62'.translate(SUB)+'(o)'\n",
    "fi_1_01 = '\\u03A61'.translate(SUB)+'(0.01)'\n",
    "fi_2_01 = '\\u03A62'.translate(SUB)+'(0.01)'\n",
    "fi_1, fi_2, fi_1_01, fi_2_01"
   ]
  },
  {
   "cell_type": "code",
   "execution_count": null,
   "metadata": {
    "scrolled": true
   },
   "outputs": [],
   "source": [
    "orda = pd.read_csv('dataFrame/orda.csv')\n",
    "orda.head()"
   ]
  },
  {
   "cell_type": "code",
   "execution_count": null,
   "metadata": {},
   "outputs": [],
   "source": [
    "#Los que tienen mas error cumplen esa condicion\n",
    "#Obsevar en la celda siguiente a esta que hay vetas mucho menor\n",
    "# a este ejemplo, y sin embargo tiene un error mucho mas grande\n",
    "#Porque mirar el segundo caso, deberia ser o_bis = 0, o es redondeo de print?\n",
    "# Los errores mas grandes se producen cuando Phi_1(o) y Phi_2(o) son cercanos a 1 \n",
    "print(\"Los 10 casos con mas error bisección:\\n\")\n",
    "for i in range(10):\n",
    "    print(fi_1 + ': {}'.format(orda.iloc[i][fi_1]))\n",
    "    print(fi_2 + ': {}'.format(orda.iloc[i][fi_2]))\n",
    "    print(fi_1_01 + ': {}'.format(orda.iloc[i][fi_1_01]))\n",
    "    print(fi_2_01 + ': {}'.format(orda.iloc[i][fi_2_01]))\n",
    "    print('f(o_bis): ', orda['f(o_bis)'].iloc[i])\n",
    "    print('############################################')"
   ]
  },
  {
   "cell_type": "code",
   "execution_count": null,
   "metadata": {},
   "outputs": [],
   "source": [
    "#Observar q los casos con mas error son ITM\n",
    "#Fitro por ratio < 1 OTM\n",
    "#NOTAR QUE HAY CASOS CON VEGA EXTREMADAMENTE CHICO PERO SU ERROR NO ES GRANDE\n",
    "orda[orda['S']/orda['k'] < 1].head(50)\n"
   ]
  },
  {
   "cell_type": "code",
   "execution_count": null,
   "metadata": {},
   "outputs": [],
   "source": [
    "#Este caso no encontro la raíz y su vega es muy pequeño\n",
    "# Ver las normales, Porque son tan pequeñas?\n",
    "orda.iloc[3462]"
   ]
  },
  {
   "cell_type": "code",
   "execution_count": null,
   "metadata": {},
   "outputs": [],
   "source": []
  }
 ],
 "metadata": {
  "kernelspec": {
   "display_name": "Python 3",
   "language": "python",
   "name": "python3"
  },
  "language_info": {
   "codemirror_mode": {
    "name": "ipython",
    "version": 3
   },
   "file_extension": ".py",
   "mimetype": "text/x-python",
   "name": "python",
   "nbconvert_exporter": "python",
   "pygments_lexer": "ipython3",
   "version": "3.6.9"
  }
 },
 "nbformat": 4,
 "nbformat_minor": 4
}
